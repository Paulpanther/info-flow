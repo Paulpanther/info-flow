{
 "cells": [
  {
   "cell_type": "markdown",
   "id": "c380a51b",
   "metadata": {},
   "source": [
    "# Missing on real World\n",
    "This notebooks tests the relevance of nodes for the two real world datasets Powergrid and Internet. We iterate over all nodes and remove them and nodes in a radius `r`.\n",
    "Then we predict the infection center again (without simulation at first) and measure the nodes impact."
   ]
  },
  {
   "cell_type": "code",
   "execution_count": 1,
   "id": "1eba554e",
   "metadata": {},
   "outputs": [],
   "source": [
    "import networkx as nx\n",
    "import rumor_centrality.rumor_detection as raw\n",
    "import rumor_centrality.jordan_center_alternative as jo\n",
    "from tqdm import tqdm\n",
    "import matplotlib.pyplot as plt\n",
    "import numpy as np\n",
    "from rumor_centrality.graph_generator import internet, us_power_grid, scale_free, synthetic_internet\n",
    "from time import time\n",
    "from multiprocessing import Pool\n",
    "from typing import List, Tuple, Dict\n",
    "from rumor_centrality.graph_simulations import si\n",
    "from rumor_centrality.graph_visualization import plot_nx_graph\n",
    "import random"
   ]
  },
  {
   "cell_type": "code",
   "execution_count": 2,
   "id": "8e87a1a3",
   "metadata": {},
   "outputs": [],
   "source": [
    "graph_callback = us_power_grid\n",
    "name = \"us_power_grid\"\n",
    "sample_size = 10\n",
    "percent_radius = [0.01, 0.05, 0.1, 0.2, 0.3, 0.4, 0.5, 0.6, 0.7]  # Percent of nodes to remove"
   ]
  },
  {
   "cell_type": "code",
   "execution_count": 3,
   "id": "f0a09450",
   "metadata": {},
   "outputs": [],
   "source": [
    "main_ref_graph = graph_callback().copy(as_view=True)"
   ]
  },
  {
   "cell_type": "code",
   "execution_count": 4,
   "id": "a8d54074",
   "metadata": {},
   "outputs": [],
   "source": [
    "metric_callback = lambda g: raw.get_center_prediction(\n",
    "        raw.networkx_graph_to_adj_list(g), use_fact=False\n",
    "    )\n",
    "\n",
    "def get_hop_distance(g, center, predicted_center):\n",
    "    return nx.shortest_path_length(g, center, predicted_center)"
   ]
  },
  {
   "cell_type": "code",
   "execution_count": 5,
   "id": "fb15e796",
   "metadata": {},
   "outputs": [],
   "source": [
    "def remove_node_and_reconnect(g, node):\n",
    "    neighbors = g.neighbors(node)\n",
    "    for i in neighbors:\n",
    "        for j in neighbors:\n",
    "            if i != j:\n",
    "                # Duplicated edges naturally not possible on a graph\n",
    "                g.add_edge(i, j)\n",
    "    g.remove_node(node)"
   ]
  },
  {
   "cell_type": "code",
   "execution_count": 6,
   "id": "132dc5ca",
   "metadata": {},
   "outputs": [],
   "source": [
    "def get_experiment_graph(g, percent_missing):\n",
    "    g = g.copy(as_view=True)\n",
    "    nodes_to_remove = int(len(g.nodes) * percent_missing)\n",
    "\n",
    "    _g = g.copy()\n",
    "    removed_nodes = []\n",
    "    for _ in range(nodes_to_remove):\n",
    "        node_to_remove = random.choice(list(_g.nodes))\n",
    "        remove_node_and_reconnect(_g, node_to_remove)\n",
    "        removed_nodes.append(node_to_remove)\n",
    "\n",
    "    return _g, removed_nodes"
   ]
  },
  {
   "cell_type": "code",
   "execution_count": 7,
   "id": "da8c7ba5",
   "metadata": {},
   "outputs": [
    {
     "name": "stderr",
     "output_type": "stream",
     "text": [
      "100%|█████████████████████████████████████████████████████████████████████| 90/90 [43:27<00:00, 28.97s/it]\n"
     ]
    }
   ],
   "source": [
    "results = {}\n",
    "\n",
    "with tqdm(total=len(percent_radius) * sample_size) as bar:\n",
    "    for p_r in percent_radius:\n",
    "        results[p_r] = []\n",
    "        for _ in range(sample_size):\n",
    "            ex_graph, removed_nodes = get_experiment_graph(main_ref_graph, p_r)            \n",
    "            predicted_centers = metric_callback(ex_graph)\n",
    "            \n",
    "            r = {\n",
    "                \"predicted_centers\": predicted_centers,\n",
    "                \"ex_graph\": ex_graph,\n",
    "                \"removed_nodes\": removed_nodes,\n",
    "            }\n",
    "            \n",
    "            results[p_r].append(r)\n",
    "            bar.update(1)"
   ]
  },
  {
   "cell_type": "code",
   "execution_count": 8,
   "id": "5b972db7",
   "metadata": {},
   "outputs": [],
   "source": [
    "import pickle\n",
    "with open(\"save_\" + name + \"_removed_percent.pickle\", \"wb\") as f:\n",
    "    pickle.dump(results, f)"
   ]
  },
  {
   "cell_type": "code",
   "execution_count": 9,
   "id": "3a784023",
   "metadata": {},
   "outputs": [
    {
     "ename": "ValueError",
     "evalue": "STOP",
     "output_type": "error",
     "traceback": [
      "\u001b[0;31m---------------------------------------------------------------------------\u001b[0m",
      "\u001b[0;31mValueError\u001b[0m                                Traceback (most recent call last)",
      "\u001b[0;32m/tmp/ipykernel_6745/2966978527.py\u001b[0m in \u001b[0;36m<module>\u001b[0;34m\u001b[0m\n\u001b[0;32m----> 1\u001b[0;31m \u001b[0;32mraise\u001b[0m \u001b[0mValueError\u001b[0m\u001b[0;34m(\u001b[0m\u001b[0;34m\"STOP\"\u001b[0m\u001b[0;34m)\u001b[0m\u001b[0;34m\u001b[0m\u001b[0;34m\u001b[0m\u001b[0m\n\u001b[0m",
      "\u001b[0;31mValueError\u001b[0m: STOP"
     ]
    }
   ],
   "source": [
    "raise ValueError(\"STOP\")"
   ]
  },
  {
   "cell_type": "code",
   "execution_count": 10,
   "id": "703cc70d",
   "metadata": {},
   "outputs": [],
   "source": [
    "shortest_paths = nx.shortest_path(main_ref_graph)"
   ]
  },
  {
   "cell_type": "code",
   "execution_count": 11,
   "id": "527dbf88",
   "metadata": {},
   "outputs": [],
   "source": [
    "def get_best_hop_distance(g, original_centers, predicted_centers):\n",
    "    best_pair = None\n",
    "    best_distance = len(g.nodes)\n",
    "    for o_c in original_centers:\n",
    "        for p_c in predicted_centers:\n",
    "            d = len(shortest_paths[o_c][p_c])\n",
    "            if d < best_distance:\n",
    "                best_distance = d\n",
    "                best_pair = (o_c, p_c)\n",
    "    return best_pair, best_distance"
   ]
  },
  {
   "cell_type": "code",
   "execution_count": 12,
   "id": "1662d9e6",
   "metadata": {},
   "outputs": [],
   "source": [
    "def get_all_hop_distances(g, original_centers, predicted_centers):\n",
    "    distances = []\n",
    "    for o_c in original_centers:\n",
    "        for p_c in predicted_centers:\n",
    "            distances.append(len(shortest_paths[o_c][p_c]))\n",
    "    return distances"
   ]
  },
  {
   "cell_type": "code",
   "execution_count": 13,
   "id": "a26ae59f",
   "metadata": {},
   "outputs": [],
   "source": [
    "unaltered_center_prediction = metric_callback(main_ref_graph)"
   ]
  },
  {
   "cell_type": "code",
   "execution_count": 14,
   "id": "b3ee6145",
   "metadata": {},
   "outputs": [],
   "source": [
    "center_results = {}\n",
    "for k, v in results.items():\n",
    "    predicted_centers = []\n",
    "    for _r in v:\n",
    "        predicted_centers.append(_r[\"predicted_centers\"])\n",
    "    center_results[k] = predicted_centers"
   ]
  },
  {
   "cell_type": "code",
   "execution_count": 15,
   "id": "abb19d04",
   "metadata": {
    "scrolled": true
   },
   "outputs": [
    {
     "name": "stderr",
     "output_type": "stream",
     "text": [
      "  0%|                                                                               | 0/9 [00:00<?, ?it/s]\n",
      "0it [00:00, ?it/s]\u001b[A\n",
      "1it [00:02,  2.99s/it]\u001b[A\n",
      "2it [00:06,  3.03s/it]\u001b[A\n",
      "3it [00:09,  3.18s/it]\u001b[A\n",
      "4it [00:12,  3.17s/it]\u001b[A\n",
      "5it [00:15,  3.15s/it]\u001b[A\n",
      "6it [00:18,  3.12s/it]\u001b[A\n",
      "7it [00:21,  3.14s/it]\u001b[A\n",
      "8it [00:25,  3.14s/it]\u001b[A\n",
      "9it [00:28,  3.15s/it]\u001b[A\n",
      "10it [00:31,  3.16s/it]\u001b[A\n",
      " 11%|███████▉                                                               | 1/9 [00:31<04:12, 31.60s/it]\n",
      "0it [00:00, ?it/s]\u001b[A\n",
      "1it [00:03,  3.15s/it]\u001b[A\n",
      "2it [00:06,  3.11s/it]\u001b[A\n",
      "3it [00:09,  3.11s/it]\u001b[A\n",
      "4it [00:12,  3.06s/it]\u001b[A\n",
      "5it [00:15,  3.04s/it]\u001b[A\n",
      "6it [00:18,  3.04s/it]\u001b[A\n",
      "7it [00:21,  3.03s/it]\u001b[A\n",
      "8it [00:24,  3.01s/it]\u001b[A\n",
      "9it [00:27,  3.00s/it]\u001b[A\n",
      "10it [00:30,  3.03s/it]\u001b[A\n",
      " 22%|███████████████▊                                                       | 2/9 [01:01<03:35, 30.83s/it]\n",
      "0it [00:00, ?it/s]\u001b[A\n",
      "1it [00:03,  3.08s/it]\u001b[A\n",
      "2it [00:06,  3.07s/it]\u001b[A\n",
      "3it [00:09,  3.09s/it]\u001b[A\n",
      "4it [00:12,  3.06s/it]\u001b[A\n",
      "5it [00:15,  3.07s/it]\u001b[A\n",
      "6it [00:18,  3.09s/it]\u001b[A\n",
      "7it [00:21,  3.08s/it]\u001b[A\n",
      "8it [00:24,  3.05s/it]\u001b[A\n",
      "9it [00:27,  3.02s/it]\u001b[A\n",
      "10it [00:30,  3.06s/it]\u001b[A\n",
      " 33%|███████████████████████▋                                               | 3/9 [01:32<03:04, 30.75s/it]\n",
      "0it [00:00, ?it/s]\u001b[A\n",
      "1it [00:02,  2.79s/it]\u001b[A\n",
      "2it [00:05,  2.78s/it]\u001b[A\n",
      "3it [00:08,  2.77s/it]\u001b[A\n",
      "4it [00:11,  2.76s/it]\u001b[A\n",
      "5it [00:13,  2.77s/it]\u001b[A\n",
      "6it [00:16,  2.79s/it]\u001b[A\n",
      "7it [00:19,  2.79s/it]\u001b[A\n",
      "8it [00:22,  2.83s/it]\u001b[A\n",
      "9it [00:25,  2.88s/it]\u001b[A\n",
      "10it [00:28,  2.83s/it]\u001b[A\n",
      " 44%|███████████████████████████████▌                                       | 4/9 [02:00<02:28, 29.80s/it]\n",
      "0it [00:00, ?it/s]\u001b[A\n",
      "1it [00:02,  2.59s/it]\u001b[A\n",
      "2it [00:05,  2.58s/it]\u001b[A\n",
      "3it [00:07,  2.59s/it]\u001b[A\n",
      "4it [00:10,  2.65s/it]\u001b[A\n",
      "5it [00:13,  2.70s/it]\u001b[A\n",
      "6it [00:16,  2.72s/it]\u001b[A\n",
      "7it [00:18,  2.69s/it]\u001b[A\n",
      "8it [00:21,  2.63s/it]\u001b[A\n",
      "9it [00:23,  2.60s/it]\u001b[A\n",
      "10it [00:26,  2.63s/it]\u001b[A\n",
      " 56%|███████████████████████████████████████▍                               | 5/9 [02:27<01:54, 28.52s/it]\n",
      "0it [00:00, ?it/s]\u001b[A\n",
      "1it [00:02,  2.33s/it]\u001b[A\n",
      "2it [00:04,  2.35s/it]\u001b[A\n",
      "3it [00:07,  2.36s/it]\u001b[A\n",
      "4it [00:09,  2.38s/it]\u001b[A\n",
      "5it [00:11,  2.40s/it]\u001b[A\n",
      "6it [00:14,  2.40s/it]\u001b[A\n",
      "7it [00:16,  2.40s/it]\u001b[A\n",
      "8it [00:19,  2.41s/it]\u001b[A\n",
      "9it [00:21,  2.39s/it]\u001b[A\n",
      "10it [00:23,  2.38s/it]\u001b[A\n",
      " 67%|███████████████████████████████████████████████▎                       | 6/9 [02:50<01:20, 26.92s/it]\n",
      "0it [00:00, ?it/s]\u001b[A\n",
      "1it [00:02,  2.15s/it]\u001b[A\n",
      "2it [00:04,  2.12s/it]\u001b[A\n",
      "3it [00:06,  2.11s/it]\u001b[A\n",
      "4it [00:08,  2.11s/it]\u001b[A\n",
      "5it [00:10,  2.10s/it]\u001b[A\n",
      "6it [00:12,  2.13s/it]\u001b[A\n",
      "7it [00:14,  2.12s/it]\u001b[A\n",
      "8it [00:16,  2.12s/it]\u001b[A\n",
      "9it [00:19,  2.11s/it]\u001b[A\n",
      "10it [00:21,  2.12s/it]\u001b[A\n",
      " 78%|███████████████████████████████████████████████████████▏               | 7/9 [03:12<00:50, 25.06s/it]\n",
      "0it [00:00, ?it/s]\u001b[A\n",
      "1it [00:01,  1.84s/it]\u001b[A\n",
      "2it [00:03,  1.81s/it]\u001b[A\n",
      "3it [00:05,  1.81s/it]\u001b[A\n",
      "4it [00:07,  1.80s/it]\u001b[A\n",
      "5it [00:09,  1.80s/it]\u001b[A\n",
      "6it [00:10,  1.81s/it]\u001b[A\n",
      "7it [00:12,  1.81s/it]\u001b[A\n",
      "8it [00:14,  1.80s/it]\u001b[A\n",
      "9it [00:16,  1.82s/it]\u001b[A\n",
      "10it [00:18,  1.81s/it]\u001b[A\n",
      " 89%|███████████████████████████████████████████████████████████████        | 8/9 [03:30<00:22, 22.84s/it]\n",
      "0it [00:00, ?it/s]\u001b[A\n",
      "1it [00:01,  1.47s/it]\u001b[A\n",
      "2it [00:02,  1.49s/it]\u001b[A\n",
      "3it [00:04,  1.51s/it]\u001b[A\n",
      "4it [00:05,  1.50s/it]\u001b[A\n",
      "5it [00:07,  1.51s/it]\u001b[A\n",
      "6it [00:09,  1.52s/it]\u001b[A\n",
      "7it [00:10,  1.51s/it]\u001b[A\n",
      "8it [00:12,  1.51s/it]\u001b[A\n",
      "9it [00:13,  1.51s/it]\u001b[A\n",
      "10it [00:15,  1.51s/it]\u001b[A\n",
      "100%|███████████████████████████████████████████████████████████████████████| 9/9 [03:45<00:00, 25.04s/it]\n"
     ]
    },
    {
     "data": {
      "text/plain": [
       "{0.01: {1: 10},\n",
       " 0.05: {1: 10},\n",
       " 0.1: {1: 10},\n",
       " 0.2: {1: 10},\n",
       " 0.3: {1: 10},\n",
       " 0.4: {1: 10},\n",
       " 0.5: {1: 10},\n",
       " 0.6: {1: 10},\n",
       " 0.7: {1: 10}}"
      ]
     },
     "execution_count": 15,
     "metadata": {},
     "output_type": "execute_result"
    }
   ],
   "source": [
    "reference_map = []\n",
    "\n",
    "# Map results to hop distances\n",
    "hop_distance_freq_by_p_r = {}\n",
    "for p_r, values in tqdm(center_results.items()):\n",
    "    hop_distance_freq = {}\n",
    "    for i, centers in tqdm(enumerate(values)):\n",
    "        # best_distance = get_hop_distance(g, unaltered_center_prediction[0], centers[20])\n",
    "        best_pair, best_distance = get_best_hop_distance(main_ref_graph, unaltered_center_prediction, centers)\n",
    "        hop_distance_freq[best_distance] = hop_distance_freq.get(best_distance, 0) + 1\n",
    "        \n",
    "        reference_map.append((p_r, i, best_distance))\n",
    "        \n",
    "    hop_distance_freq_by_p_r[p_r] = hop_distance_freq\n",
    "hop_distance_freq_by_p_r"
   ]
  },
  {
   "cell_type": "code",
   "execution_count": 16,
   "id": "7d7528f6",
   "metadata": {
    "scrolled": true
   },
   "outputs": [
    {
     "data": {
      "text/plain": [
       "Text(0.5, 0, 'Hop Distance')"
      ]
     },
     "execution_count": 16,
     "metadata": {},
     "output_type": "execute_result"
    },
    {
     "data": {
      "image/png": "[encoded data removed]",
      "text/plain": [
       "<Figure size 432x288 with 1 Axes>"
      ]
     },
     "metadata": {
      "needs_background": "light"
     },
     "output_type": "display_data"
    }
   ],
   "source": [
    "from pandas import DataFrame\n",
    "\n",
    "df = DataFrame(hop_distance_freq_by_p_r)\n",
    "df = df.reindex(index=sorted(df.index))\n",
    "ax = df.plot.bar()\n",
    "ax.set_title(\"Hop Distance Freq with various percent of nodes missing\")\n",
    "ax.set_ylabel(\"Freq\")\n",
    "ax.set_xlabel(\"Hop Distance\")"
   ]
  }
 ],
 "metadata": {
  "kernelspec": {
   "display_name": "info-flow",
   "language": "python",
   "name": "info-flow"
  },
  "language_info": {
   "codemirror_mode": {
    "name": "ipython",
    "version": 3
   },
   "file_extension": ".py",
   "mimetype": "text/x-python",
   "name": "python",
   "nbconvert_exporter": "python",
   "pygments_lexer": "ipython3",
   "version": "3.8.10"
  }
 },
 "nbformat": 4,
 "nbformat_minor": 5
}
