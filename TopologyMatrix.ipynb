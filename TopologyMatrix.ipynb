{
 "cells": [
  {
   "cell_type": "code",
   "execution_count": 15,
   "metadata": {
    "collapsed": true
   },
   "outputs": [],
   "source": [
    "import numpy as np\n",
    "from rumor_centrality import graph_simulations\n",
    "from rumor_centrality import graph_generator\n",
    "from tqdm import tqdm\n",
    "from matplotlib import pyplot as plt\n",
    "import rumor_centrality.jordan_center_alternative as jo\n",
    "\n",
    "from rumor_centrality import rumor_detection\n",
    "import networkx as nx\n",
    "\n",
    "def predict_center(infected_graph_adj):\n",
    "    return rumor_detection.get_center_prediction(rumor_detection.networkx_graph_to_adj_list(infected_graph_adj), use_fact=False)\n",
    "\n",
    "def get_hop_distance(g, center: int, predicted_center: int):\n",
    "    if not g.has_node(center) or not g.has_node(predicted_center):\n",
    "        print(\"Center of predicted center not in graph\")\n",
    "    if not is_connected(g):\n",
    "        return -1\n",
    "    return nx.shortest_path_length(g, center, predicted_center)\n",
    "\n",
    "def is_connected(g: nx.Graph) -> bool:\n",
    "    return nx.is_directed(g) and nx.is_strongly_connected(g) or not nx.is_directed(g) and nx.is_connected(g)\n",
    "\n",
    "def predict(models, graph, predictor_conf):\n",
    "    predictor, can_handle_unconnected = predictor_conf\n",
    "    results = []\n",
    "    for infection, center in models:\n",
    "        if len(infection.nodes) == 0:\n",
    "            results.append(None)\n",
    "            continue\n",
    "\n",
    "        if not can_handle_unconnected and not is_connected(infection):\n",
    "            results.append(-1)\n",
    "            continue\n",
    "\n",
    "        predicted = predictor(infection)\n",
    "        hop_distance = get_hop_distance(graph, center[0], predicted[0])\n",
    "        results.append(hop_distance)\n",
    "    return results\n",
    "\n",
    "def run_sim(times, sim, graph, predictor_conf):\n",
    "    models = []\n",
    "    for _ in range(times):\n",
    "        model = sim(graph)\n",
    "        models.append(model)\n",
    "    return predict(models, graph, predictor_conf)\n",
    "\n",
    "def frequencies(predictions):\n",
    "    values = [-1 if v is None else v for v in predictions]\n",
    "    uniq_values = list(set(values))\n",
    "    return dict([(u, values.count(u)) for u in uniq_values])\n",
    "\n",
    "def matrix(n, m, p, data, row_names, col_names, max, tick_freq):\n",
    "    fig, axes = plt.subplots(nrows=n, ncols=m, figsize=(8, 8), sharex='all', sharey='all')\n",
    "    fig.subplots_adjust(hspace=0.1, wspace=0.1)\n",
    "\n",
    "    for ax in axes.flat:\n",
    "        ax.set_xlim([-1.5, max[0] + 0.5])\n",
    "        ax.set_ylim([0, max[1]])\n",
    "        ax.xaxis.set_ticks(np.arange(-1, max[0] + 1, tick_freq[0]))\n",
    "        ax.yaxis.set_ticks(np.arange(0, max[1] + 1, tick_freq[1]))\n",
    "\n",
    "    width = 0.25\n",
    "    for row in range(n):\n",
    "        for col in range(m):\n",
    "            ax = axes[row, col]\n",
    "            for bar in range(p):\n",
    "                ax.bar(np.array(list(data[row][col][bar].keys())) + width * bar + width / 2 - (p * width) / 2, data[row][col][bar].values(), width=width)\n",
    "\n",
    "            if row == n - 1:\n",
    "                ax.set(xlabel=col_names[col])\n",
    "            if col == 0:\n",
    "                ax.set(ylabel=row_names[row])\n",
    "    return fig\n"
   ]
  },
  {
   "cell_type": "code",
   "execution_count": 23,
   "outputs": [
    {
     "name": "stdout",
     "output_type": "stream",
     "text": [
      "Scale Free connected True\n"
     ]
    }
   ],
   "source": [
    "sim_si = lambda g: graph_simulations.si(g, -1, 0.3, 1, 100, 10, True)\n",
    "sim_sis = lambda g: graph_simulations.sis(g, -1, 0.3, 0.1, 1, 100, 10, True)\n",
    "sim_sir = lambda g: graph_simulations.sir(g, -1, 0.3, 0.1, 1, 100, 10, True)\n",
    "simulations = [sim_si, sim_sis, sim_sir]\n",
    "sim_names = [\"SI\", \"SIS\", \"SIR\"]\n",
    "\n",
    "\n",
    "rc_prediction = lambda infected_g: predict_center(infected_g)\n",
    "jo_prediction = lambda infected_g: jo.centers_by_jordan_center(infected_g)\n",
    "# bc_prediction = lambda infected_g: jo.centers_by_betweenness_centrality(infected_g)\n",
    "dc_prediction = lambda infected_g: jo.centers_by_distance_centrality(infected_g)\n",
    "predictors = [(rc_prediction, True), (jo_prediction, False), (dc_prediction, False)]\n",
    "predictor_names = [\"Rumour Centrality\", \"Jordan Center\", \"Distance Centrality\"]\n",
    "\n",
    "small_world_g = graph_generator.small_world(1000, 100, 0.1)\n",
    "scale_free_g = nx.Graph(graph_generator.scale_free(1000))\n",
    "synthetic_internet_g = graph_generator.synthetic_internet(1000)\n",
    "internet_g = graph_generator.internet()\n",
    "us_power_grid_g = graph_generator.us_power_grid()\n",
    "graphs = [small_world_g, scale_free_g, synthetic_internet_g, us_power_grid_g]\n",
    "graph_names = [\"Small World\", \"Scale Free\", \"Synthetic Internet\", \"US Power Grid\"]\n",
    "\n",
    "# exceptions = [(0, 2, 1), (1, 2, 1), (2, 2, 1)]\n",
    "print(\"Scale Free connected\", is_connected(scale_free_g))\n"
   ],
   "metadata": {
    "collapsed": false,
    "pycharm": {
     "name": "#%%\n"
    }
   }
  },
  {
   "cell_type": "code",
   "execution_count": 18,
   "outputs": [
    {
     "name": "stdout",
     "output_type": "stream",
     "text": [
      "Running graph Small World with simulation SI and predictor Rumour Centrality\n",
      "Running graph Small World with simulation SI and predictor Jordan Center\n",
      "Running graph Small World with simulation SI and predictor Distance Centrality\n",
      "Running graph Scale Free with simulation SI and predictor Rumour Centrality\n",
      "Running graph Scale Free with simulation SI and predictor Jordan Center\n",
      "Running graph Scale Free with simulation SI and predictor Distance Centrality\n",
      "Running graph Synthetic Internet with simulation SI and predictor Rumour Centrality\n",
      "Running graph Synthetic Internet with simulation SI and predictor Jordan Center\n",
      "Running graph Synthetic Internet with simulation SI and predictor Distance Centrality\n",
      "Running graph US Power Grid with simulation SI and predictor Rumour Centrality\n",
      "Running graph US Power Grid with simulation SI and predictor Jordan Center\n",
      "Running graph US Power Grid with simulation SI and predictor Distance Centrality\n",
      "Running graph Small World with simulation SIS and predictor Rumour Centrality\n",
      "Running graph Small World with simulation SIS and predictor Jordan Center\n",
      "Running graph Small World with simulation SIS and predictor Distance Centrality\n",
      "Running graph Scale Free with simulation SIS and predictor Rumour Centrality\n",
      "Running graph Scale Free with simulation SIS and predictor Jordan Center\n",
      "Running graph Scale Free with simulation SIS and predictor Distance Centrality\n",
      "Running graph Synthetic Internet with simulation SIS and predictor Rumour Centrality\n",
      "Running graph Synthetic Internet with simulation SIS and predictor Jordan Center\n",
      "Running graph Synthetic Internet with simulation SIS and predictor Distance Centrality\n",
      "Running graph US Power Grid with simulation SIS and predictor Rumour Centrality\n",
      "Running graph US Power Grid with simulation SIS and predictor Jordan Center\n",
      "Running graph US Power Grid with simulation SIS and predictor Distance Centrality\n",
      "Running graph Small World with simulation SIR and predictor Rumour Centrality\n",
      "Running graph Small World with simulation SIR and predictor Jordan Center\n",
      "Running graph Small World with simulation SIR and predictor Distance Centrality\n",
      "Running graph Scale Free with simulation SIR and predictor Rumour Centrality\n",
      "Running graph Scale Free with simulation SIR and predictor Jordan Center\n",
      "Running graph Scale Free with simulation SIR and predictor Distance Centrality\n",
      "Running graph Synthetic Internet with simulation SIR and predictor Rumour Centrality\n",
      "Running graph Synthetic Internet with simulation SIR and predictor Jordan Center\n",
      "Running graph Synthetic Internet with simulation SIR and predictor Distance Centrality\n",
      "Running graph US Power Grid with simulation SIR and predictor Rumour Centrality\n",
      "Running graph US Power Grid with simulation SIR and predictor Jordan Center\n",
      "Running graph US Power Grid with simulation SIR and predictor Distance Centrality\n"
     ]
    }
   ],
   "source": [
    "times = 50\n",
    "data = []\n",
    "for row, sim in enumerate(simulations):\n",
    "    row_data = []\n",
    "    for col, graph in enumerate(graphs):\n",
    "        col_data = []\n",
    "        for p, predictor in enumerate(predictors):\n",
    "            print(f\"Running graph {graph_names[col]} with simulation {sim_names[row]} and predictor {predictor_names[p]}\")\n",
    "            col_data.append(frequencies(run_sim(times, sim, graph, predictor)))\n",
    "        row_data.append(col_data)\n",
    "    data.append(row_data)"
   ],
   "metadata": {
    "collapsed": false,
    "pycharm": {
     "name": "#%%\n"
    }
   }
  },
  {
   "cell_type": "code",
   "execution_count": 22,
   "outputs": [
    {
     "data": {
      "text/plain": "<Figure size 576x576 with 12 Axes>",
      "image/png": "[encoded data removed]"
     },
     "metadata": {
      "needs_background": "light"
     },
     "output_type": "display_data"
    }
   ],
   "source": [
    "fig = matrix(len(simulations), len(graphs), len(predictors), data, sim_names, graph_names, (5, 60), (1, 10))\n",
    "fig.suptitle(f\"Different Dynamics and Graphs Types\\nGraph Sizes = 1000, Infected Nodes = 100, Iterations = {times}\")\n",
    "plt.show()"
   ],
   "metadata": {
    "collapsed": false,
    "pycharm": {
     "name": "#%%\n"
    }
   }
  },
  {
   "cell_type": "markdown",
   "source": [
    "## TODO:\n",
    "- Connected Scale Free\n",
    "- -1 -> Inf\n",
    "- Why SIS x US Power Grid less -1: because rc works on unconnected\n",
    "- Legend + same colors as Tim\n",
    "- betweenness why not\n",
    "- why synth internet better than us power"
   ],
   "metadata": {
    "collapsed": false,
    "pycharm": {
     "name": "#%% md\n"
    }
   }
  },
  {
   "cell_type": "markdown",
   "source": [],
   "metadata": {
    "collapsed": false
   }
  }
 ],
 "metadata": {
  "kernelspec": {
   "display_name": "Python 3",
   "language": "python",
   "name": "python3"
  },
  "language_info": {
   "codemirror_mode": {
    "name": "ipython",
    "version": 2
   },
   "file_extension": ".py",
   "mimetype": "text/x-python",
   "name": "python",
   "nbconvert_exporter": "python",
   "pygments_lexer": "ipython2",
   "version": "2.7.6"
  }
 },
 "nbformat": 4,
 "nbformat_minor": 0
}