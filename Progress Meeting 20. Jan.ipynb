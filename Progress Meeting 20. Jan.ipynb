{
 "cells": [
  {
   "cell_type": "markdown",
   "id": "470f2e01",
   "metadata": {},
   "source": [
    "# Scaleability\n",
    "\n",
    "Runtime Scales with Edge Count (surprise)\n",
    "![Scaleability Overview](progress_pictures/scaleability.png)\n",
    "\n",
    "Trees are way faster to predict than complete graphs.\n",
    "\n",
    "We implemented parallelism, we now calculate rumor centralities on different roots in parallel.\n",
    "We could also have calculated the different BFS Trees of each node in parallel, which would not have made much of a difference runtime wise, but was harder to implement.\n",
    "\n",
    "Next tests as soon as cluster is available, with full parallelism, 500 threads on complete graphs of large scale. Thousand to million nodes."
   ]
  },
  {
   "cell_type": "markdown",
   "source": [
    "# Multiple rumor sources\n",
    "\n",
    "- while implementing the cluster number estimation several problems came up\n",
    "    - debugging the clusters is quite hard (how to find out if its right? --> look at easy instances --> are often easy)\n",
    "    - some programming errors"
   ],
   "metadata": {
    "collapsed": false
   }
  },
  {
   "cell_type": "markdown",
   "id": "ca5af75d",
   "metadata": {},
   "source": [
    "# Next Steps\n",
    "- First experiments on missing nodes --> No visible impact to prediction quality\n",
    "- Further debugging of clustering algorithm\n",
    "- Evaluation of current multiple source detection algorithm by telling algorithm first how many sources there are to find\n",
    "- Test Topology Impact by\n",
    "  - Choosing each node as center of infection, meaure prediction quality --> Identify good/bad situations for rumor centrality (probably border nodes are bad, center nodes good)\n",
    "  - Choosing each node as missing (maybe in a radius around it as well), measure prediction quality\n",
    "  - Choosing neighbourhoods of nodes/edges to remove, simulated real missing data better, probably has high prediction quality impact\n",
    "  - Create experiments to identify topologies relevant for infection dynamic\n",
    "  - Combine topology findings of missing data & Simulations"
   ]
  },
  {
   "cell_type": "code",
   "execution_count": null,
   "outputs": [],
   "source": [],
   "metadata": {
    "collapsed": false,
    "pycharm": {
     "name": "#%%\n"
    }
   }
  }
 ],
 "metadata": {
  "kernelspec": {
   "display_name": "info-flow",
   "language": "python",
   "name": "info-flow"
  },
  "language_info": {
   "codemirror_mode": {
    "name": "ipython",
    "version": 3
   },
   "file_extension": ".py",
   "mimetype": "text/x-python",
   "name": "python",
   "nbconvert_exporter": "python",
   "pygments_lexer": "ipython3",
   "version": "3.8.10"
  }
 },
 "nbformat": 4,
 "nbformat_minor": 5
}