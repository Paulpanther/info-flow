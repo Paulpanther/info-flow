{
 "cells": [
  {
   "cell_type": "markdown",
   "id": "4992e5a3",
   "metadata": {},
   "source": [
    "# Reproduction\n",
    "\n",
    "\n",
    "- Regular Trees still do not make a lot of sense\n",
    "- We know what random geometric graphs are, but not \"trees\"\n",
    "\n",
    "Prediction on regular trees (with simulation) worse with higher node count and smaller degree --> Lower Tree height means better results\n",
    "![Regular Tree Predictions](progress_pictures/center_prediction_regular_trees.png)"
   ]
  },
  {
   "cell_type": "markdown",
   "id": "bed0af86",
   "metadata": {},
   "source": [
    "That is also obvious for geometric graphs:\n",
    "![Radius 0.1](progress_pictures/center_prediction_geo_graph_0.1.png)\n",
    "![Radius 0.4](progress_pictures/center_prediction_geo_graph_0.4.png)"
   ]
  },
  {
   "cell_type": "markdown",
   "id": "49338222",
   "metadata": {},
   "source": [
    "However, all metrics are quite similar: `Rumor Centraility` itself is not outperforming the others."
   ]
  },
  {
   "cell_type": "markdown",
   "id": "b517b6dc",
   "metadata": {},
   "source": [
    "## Real World Graphs\n",
    "\n",
    "\n",
    "![Internet](progress_pictures/center_prediction_internet.png)\n",
    "![US Power Grid](progress_pictures/center_prediction_us_power_grid.png)\n",
    "\n",
    "Probabliy Internet has a different topology, which leads to rumor centrality outperforming the others. Power Grid also has higher total hop distances."
   ]
  },
  {
   "cell_type": "markdown",
   "id": "67db9266",
   "metadata": {},
   "source": [
    "## Assumption: Higher Degree --> Easier Prediction\n",
    "\n",
    "![Degree](progress_pictures/center_prediction_depends_on_degree.png)\n",
    "![Degree Regression](progress_pictures/center_prediction_depends_on_degree_regression.png)"
   ]
  },
  {
   "cell_type": "markdown",
   "id": "a7756cf6",
   "metadata": {},
   "source": [
    "# @Paul\n",
    "- Our SI Model does not use differentials, same as the authors (Paul, maybe a difference in prob with that random distribution/sampling?)"
   ]
  }
 ],
 "metadata": {
  "kernelspec": {
   "display_name": "info-flow",
   "language": "python",
   "name": "info-flow"
  },
  "language_info": {
   "codemirror_mode": {
    "name": "ipython",
    "version": 3
   },
   "file_extension": ".py",
   "mimetype": "text/x-python",
   "name": "python",
   "nbconvert_exporter": "python",
   "pygments_lexer": "ipython3",
   "version": "3.8.10"
  }
 },
 "nbformat": 4,
 "nbformat_minor": 5
}
