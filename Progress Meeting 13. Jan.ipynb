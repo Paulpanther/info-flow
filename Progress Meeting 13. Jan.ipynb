{
 "cells": [
  {
   "cell_type": "markdown",
   "id": "4992e5a3",
   "metadata": {},
   "source": [
    "# Reproduction\n",
    "\n",
    "\n",
    "- Regular Trees still do not make a lot of sense\n",
    "- We know what random geometric graphs are, but not \"trees\"\n",
    "\n",
    "Prediction on regular trees (with simulation) worse with higher node count and smaller degree --> Lower Tree height means better results\n",
    "![Regular Tree Predictions](progress_pictures/center_prediction_regular_trees.png)"
   ]
  },
  {
   "cell_type": "markdown",
   "id": "bed0af86",
   "metadata": {},
   "source": [
    "That is also obvious for geometric graphs:\n",
    "![Radius 0.1](progress_pictures/center_prediction_geo_graph_0.1.png)\n",
    "![Radius 0.4](progress_pictures/center_prediction_geo_graph_0.4.png)"
   ]
  },
  {
   "cell_type": "markdown",
   "id": "49338222",
   "metadata": {},
   "source": [
    "However, all metrics are quite similar: `Rumor Centraility` itself is not outperforming the others."
   ]
  },
  {
   "cell_type": "markdown",
   "id": "b517b6dc",
   "metadata": {},
   "source": [
    "## Real World Graphs\n",
    "\n",
    "\n",
    "![Internet](progress_pictures/center_prediction_internet.png)\n",
    "![US Power Grid](progress_pictures/center_prediction_us_power_grid.png)\n",
    "\n",
    "Probabliy Internet has a different topology, which leads to rumor centrality outperforming the others. Power Grid also has higher total hop distances."
   ]
  },
  {
   "cell_type": "markdown",
   "id": "67db9266",
   "metadata": {},
   "source": [
    "## Assumption: Higher Degree --> Easier Prediction\n",
    "\n",
    "![Degree](progress_pictures/center_prediction_depends_on_degree.png)\n",
    "![Degree Regression](progress_pictures/center_prediction_depends_on_degree_regression.png)"
   ]
  },
  {
   "cell_type": "markdown",
   "id": "a7756cf6",
   "metadata": {},
   "source": [
    "# Dynamics (SI, SIS, SIR)\n",
    "- Our SI Model does not use differentials, same as the authors\n",
    "\n",
    "## Different Simulations produce different results\n",
    "![Graph Sizes for Dynamics](progress_pictures/dynamics_samples.png)\n",
    "\n",
    "## Naive comparison between Dynamics\n",
    "![Hops for Dynamics](progress_pictures/dynamics_hops.png)\n"
   ]
  },
  {
   "cell_type": "markdown",
   "source": [
    "## Multiple rumour source prediction\n",
    "\n",
    "**Chen et al. 2016 Algorithm overview (for SRI)**\n",
    "\n",
    "Algorithm from paper to detect multiple rumour sources:\n",
    "\n",
    "1. Clustering (split graph into partitions)\n",
    "2. Localization (find sources per partition)\n",
    "\n",
    "**Clustering** (relevant part for us)\n",
    "\n",
    "- select two infected nodes with max distance (are most likely in different clusters)\n",
    "- iteratively select as many nodes as needed that have max distance to current selection\n",
    "- group all other nodes based on min distance to selected cluster nodes\n",
    "\n",
    "**Proposed alternative approach** (Clustering)\n",
    "\n",
    "- k-means cluster with random centroids + distance centrality to choose next iteration’s cluster center\n",
    "- also seems to work pretty well\n",
    "- next Todo"
   ],
   "metadata": {
    "collapsed": false,
    "pycharm": {
     "name": "#%% md\n"
    }
   }
  },
  {
   "cell_type": "markdown",
   "source": [
    "Implemented clustering:\n",
    "\n",
    "![cluster](progress_pictures/cluster_6.png)\n",
    "\n",
    "Still problematic: Distance from selected cluster reprs done by addition, which can lead to selecting neighbors:\n",
    "![cluster neighbors](progress_pictures/cluster_distance_problem.png)\n",
    "\n",
    "On those clusters we can already predict some rumour centers as usual:\n",
    "![cluster predictions](progress_pictures/cluster_predictions.png)"
   ],
   "metadata": {
    "collapsed": false,
    "pycharm": {
     "name": "#%% md\n"
    }
   }
  },
  {
   "cell_type": "code",
   "execution_count": null,
   "outputs": [],
   "source": [],
   "metadata": {
    "collapsed": false,
    "pycharm": {
     "name": "#%%\n"
    }
   }
  }
 ],
 "metadata": {
  "kernelspec": {
   "display_name": "info-flow",
   "language": "python",
   "name": "info-flow"
  },
  "language_info": {
   "codemirror_mode": {
    "name": "ipython",
    "version": 3
   },
   "file_extension": ".py",
   "mimetype": "text/x-python",
   "name": "python",
   "nbconvert_exporter": "python",
   "pygments_lexer": "ipython3",
   "version": "3.8.10"
  }
 },
 "nbformat": 4,
 "nbformat_minor": 5
}