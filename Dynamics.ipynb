{
 "cells": [
  {
   "cell_type": "markdown",
   "metadata": {},
   "source": [
    "# Simulate and Compare different Dynamics"
   ]
  },
  {
   "cell_type": "code",
   "execution_count": null,
   "metadata": {
    "pycharm": {
     "name": "#%%\n"
    }
   },
   "outputs": [],
   "source": [
    "from rumor_centrality import graph_simulations\n",
    "from rumor_centrality import graph_generator\n",
    "\n",
    "g = graph_generator.synthetic_internet(200)\n"
   ]
  },
  {
   "cell_type": "code",
   "execution_count": null,
   "metadata": {
    "pycharm": {
     "name": "#%%\n"
    }
   },
   "outputs": [],
   "source": [
    "\n",
    "from rumor_centrality.graph_visualization import multiple_histograms\n",
    "from tqdm import tqdm\n"
   ]
  },
  {
   "cell_type": "code",
   "execution_count": null,
   "metadata": {
    "pycharm": {
     "name": "#%%\n"
    }
   },
   "outputs": [],
   "source": [
    "models_si = []\n",
    "for i in tqdm(range(10000)):\n",
    "    models_si.append(graph_simulations.si(g, -1, 0.1, 1, 100))\n"
   ]
  },
  {
   "cell_type": "code",
   "execution_count": null,
   "metadata": {
    "pycharm": {
     "name": "#%%\n"
    }
   },
   "outputs": [],
   "source": [
    "models_sis = []\n",
    "for i in tqdm(range(10000)):\n",
    "    models_sis.append(graph_simulations.sis(g, -1, 0.3, 0.1, 1, 100, max_no_change=10))\n",
    "models_sis = [m for m in models_sis if 50 < len(m[0].nodes())]\n"
   ]
  },
  {
   "cell_type": "code",
   "execution_count": null,
   "metadata": {
    "pycharm": {
     "name": "#%%\n"
    }
   },
   "outputs": [],
   "source": [
    "models_sir = []\n",
    "for i in tqdm(range(10000)):\n",
    "    models_sir.append(graph_simulations.sir(g, -1, 0.3, 0.1, 1, 100, max_no_change=10))\n",
    "models_sir = [m for m in models_sir if 50 < len(m[0].nodes())]"
   ]
  },
  {
   "cell_type": "code",
   "execution_count": null,
   "metadata": {
    "pycharm": {
     "name": "#%%\n"
    }
   },
   "outputs": [],
   "source": [
    "multiple_histograms([[len(m.nodes()) for (m, _) in models_si], [len(m.nodes()) for (m, _) in models_sis], [len(m.nodes()) for (m, _) in models_sir]], [\"SI\", \"SIS\", \"SIR\"], \"Size\", \"Count\", \"Models with aboard if 10 times no change\")"
   ]
  },
  {
   "cell_type": "code",
   "execution_count": null,
   "metadata": {
    "pycharm": {
     "is_executing": true,
     "name": "#%%\n"
    }
   },
   "outputs": [],
   "source": [
    "size = 87\n",
    "sized_models_si = [m for m in models_si if len(m[0].nodes()) == size]\n",
    "sized_models_sis = [m for m in models_sis if len(m[0].nodes()) == size]\n",
    "sized_models_sir = [m for m in models_sir if len(m[0].nodes()) == size]\n",
    "\n",
    "print(f\"SI: {len(sized_models_si)}, SIS: {len(sized_models_sis)}, SIR: {len(sized_models_sir)}\")"
   ]
  },
  {
   "cell_type": "code",
   "execution_count": null,
   "metadata": {
    "pycharm": {
     "is_executing": true,
     "name": "#%%\n"
    }
   },
   "outputs": [],
   "source": [
    "import random\n",
    "\n",
    "def shuffle(l):\n",
    "    random.shuffle(l)\n",
    "    return l\n",
    "\n",
    "min_size = min(len(sized_models_si), len(sized_models_sis), len(sized_models_sir))\n",
    "print(\"Min Size\", min_size)\n",
    "\n",
    "rand_models_si = shuffle(models_si)[0:min_size]\n",
    "rand_models_sis = shuffle(models_sis)[0:min_size]\n",
    "rand_models_sir = shuffle(models_sir)[0:min_size]\n",
    "\n",
    "print(f\"SI: {len(rand_models_si)}, SIS: {len(rand_models_sis)}, SIR: {len(rand_models_sir)}\")"
   ]
  },
  {
   "cell_type": "code",
   "execution_count": 3,
   "metadata": {
    "pycharm": {
     "name": "#%%\n"
    }
   },
   "outputs": [],
   "source": [
    "from rumor_centrality import rumor_detection\n",
    "import networkx as nx\n",
    "\n",
    "def predict_center(infected_graph_adj):\n",
    "    return rumor_detection.get_center_prediction(rumor_detection.networkx_graph_to_adj_list(infected_graph_adj), use_fact=False)\n",
    "\n",
    "def get_hop_distance(g, center: int, predicted_center: int):\n",
    "    return nx.shortest_path_length(g, center, predicted_center)\n",
    "\n",
    "def predict(models):\n",
    "    results = []\n",
    "    for infection, center in models:\n",
    "        if len(infection.nodes) == 0:\n",
    "            results.append((None, len(infection.nodes)))\n",
    "            continue\n",
    "\n",
    "        predicted = predict_center(infection)\n",
    "        hop_distance = get_hop_distance(g, center[0], predicted[0])\n",
    "        results.append(hop_distance)\n",
    "    return results"
   ]
  },
  {
   "cell_type": "code",
   "execution_count": null,
   "metadata": {
    "pycharm": {
     "is_executing": true,
     "name": "#%%\n"
    }
   },
   "outputs": [],
   "source": [
    "prediction_si = predict(rand_models_si)"
   ]
  },
  {
   "cell_type": "code",
   "execution_count": null,
   "metadata": {
    "pycharm": {
     "is_executing": true,
     "name": "#%%\n"
    }
   },
   "outputs": [],
   "source": [
    "prediction_sis = predict(rand_models_sis)"
   ]
  },
  {
   "cell_type": "code",
   "execution_count": null,
   "metadata": {
    "pycharm": {
     "is_executing": true,
     "name": "#%%\n"
    }
   },
   "outputs": [],
   "source": [
    "prediction_sir = predict(rand_models_sir)"
   ]
  },
  {
   "cell_type": "code",
   "execution_count": null,
   "metadata": {
    "pycharm": {
     "is_executing": true,
     "name": "#%%\n"
    }
   },
   "outputs": [],
   "source": [
    "multiple_histograms([prediction_si, prediction_sis, prediction_sir], [\"SI\", \"SIS\", \"SIR\"], \"Size\", \"Count\", \"Models with aboard if 10 times no change\", mod=1)"
   ]
  },
  {
   "cell_type": "code",
   "execution_count": 11,
   "outputs": [
    {
     "name": "stderr",
     "output_type": "stream",
     "text": [
      "100%|██████████| 100/100 [00:00<00:00, 395.88it/s]\n",
      "100%|██████████| 100/100 [00:01<00:00, 63.14it/s]\n",
      "100%|██████████| 100/100 [00:01<00:00, 59.75it/s]\n",
      "100%|██████████| 100/100 [00:01<00:00, 55.25it/s]\n",
      "100%|██████████| 100/100 [00:02<00:00, 45.04it/s]\n"
     ]
    }
   ],
   "source": [
    "from rumor_centrality import graph_simulations\n",
    "from rumor_centrality import graph_generator\n",
    "from tqdm import tqdm\n",
    "\n",
    "g = graph_generator.synthetic_internet(200)\n",
    "result, i = graph_simulations.si(g, -1, 0.3, 1, 100, fill_infection_count=True)\n",
    "\n",
    "predictions = []\n",
    "count = 5\n",
    "for ii in range(count):\n",
    "    models = []\n",
    "    for i in tqdm(range(100)):\n",
    "        models.append(graph_simulations.si(g, -1, 0.1, 1, 200.0 / count * ii, fill_infection_count=True))\n",
    "    predictions.append(predict(models))\n"
   ],
   "metadata": {
    "collapsed": false,
    "pycharm": {
     "name": "#%%\n"
    }
   }
  },
  {
   "cell_type": "code",
   "execution_count": 13,
   "metadata": {
    "pycharm": {
     "name": "#%%\n"
    }
   },
   "outputs": [
    {
     "data": {
      "text/plain": "<Figure size 720x720 with 5 Axes>",
      "image/png": "[encoded data removed]"
     },
     "metadata": {
      "needs_background": "light"
     },
     "output_type": "display_data"
    }
   ],
   "source": [
    "from rumor_centrality.graph_visualization import multiple_histograms\n",
    "\n",
    "\n",
    "multiple_histograms(predictions, [\"40\", \"80\", \"120\", \"160\", \"200\"], \"Size\", \"count\", \"Bla\", mod=1)\n"
   ]
  },
  {
   "cell_type": "code",
   "execution_count": null,
   "metadata": {
    "pycharm": {
     "name": "#%%\n"
    }
   },
   "outputs": [],
   "source": []
  }
 ],
 "metadata": {
  "kernelspec": {
   "display_name": "Python 3 (ipykernel)",
   "language": "python",
   "name": "python3"
  },
  "language_info": {
   "codemirror_mode": {
    "name": "ipython",
    "version": 3
   },
   "file_extension": ".py",
   "mimetype": "text/x-python",
   "name": "python",
   "nbconvert_exporter": "python",
   "pygments_lexer": "ipython3",
   "version": "3.8.5"
  }
 },
 "nbformat": 4,
 "nbformat_minor": 1
}