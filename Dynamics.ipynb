{
 "cells": [
  {
   "cell_type": "markdown",
   "metadata": {},
   "source": [
    "# Simulate and Compare different Dynamics"
   ]
  },
  {
   "cell_type": "code",
   "execution_count": 4,
   "outputs": [],
   "source": [
    "from rumor_centrality import graph_simulations\n",
    "from rumor_centrality import graph_generator\n",
    "\n",
    "g = graph_generator.synthetic_internet(200)\n"
   ],
   "metadata": {
    "collapsed": false,
    "pycharm": {
     "name": "#%%\n"
    }
   }
  },
  {
   "cell_type": "code",
   "execution_count": 5,
   "outputs": [],
   "source": [
    "\n",
    "from rumor_centrality.graph_visualization import multiple_histograms\n",
    "from tqdm import tqdm\n"
   ],
   "metadata": {
    "collapsed": false,
    "pycharm": {
     "name": "#%%\n"
    }
   }
  },
  {
   "cell_type": "code",
   "execution_count": 3,
   "metadata": {
    "pycharm": {
     "name": "#%%\n"
    }
   },
   "outputs": [
    {
     "name": "stderr",
     "output_type": "stream",
     "text": [
      "100%|██████████| 10000/10000 [03:25<00:00, 48.65it/s]\n"
     ]
    }
   ],
   "source": [
    "models_si = []\n",
    "for i in tqdm(range(10000)):\n",
    "    models_si.append(graph_simulations.si(g, -1, 0.1, 1, 100))\n"
   ]
  },
  {
   "cell_type": "code",
   "execution_count": 10,
   "outputs": [
    {
     "name": "stderr",
     "output_type": "stream",
     "text": [
      "100%|██████████| 10000/10000 [01:23<00:00, 119.93it/s]\n"
     ]
    }
   ],
   "source": [
    "models_sis = []\n",
    "for i in tqdm(range(10000)):\n",
    "    models_sis.append(graph_simulations.sis(g, -1, 0.3, 0.1, 1, 100, max_no_change=10))\n",
    "models_sis = [m for m in models_sis if 50 < len(m[0].nodes())]\n"
   ],
   "metadata": {
    "collapsed": false,
    "pycharm": {
     "name": "#%%\n"
    }
   }
  },
  {
   "cell_type": "code",
   "execution_count": 11,
   "outputs": [
    {
     "name": "stderr",
     "output_type": "stream",
     "text": [
      "100%|██████████| 10000/10000 [00:41<00:00, 238.36it/s]\n"
     ]
    }
   ],
   "source": [
    "models_sir = []\n",
    "for i in tqdm(range(10000)):\n",
    "    models_sir.append(graph_simulations.sir(g, -1, 0.3, 0.1, 1, 100, max_no_change=10))\n",
    "models_sir = [m for m in models_sir if 50 < len(m[0].nodes())]"
   ],
   "metadata": {
    "collapsed": false,
    "pycharm": {
     "name": "#%%\n"
    }
   }
  },
  {
   "cell_type": "code",
   "execution_count": 3,
   "outputs": [
    {
     "ename": "NameError",
     "evalue": "name 'models_si' is not defined",
     "output_type": "error",
     "traceback": [
      "\u001B[1;31m---------------------------------------------------------------------------\u001B[0m",
      "\u001B[1;31mNameError\u001B[0m                                 Traceback (most recent call last)",
      "Input \u001B[1;32mIn [3]\u001B[0m, in \u001B[0;36m<module>\u001B[1;34m\u001B[0m\n\u001B[1;32m----> 1\u001B[0m multiple_histograms([[\u001B[38;5;28mlen\u001B[39m(m\u001B[38;5;241m.\u001B[39mnodes()) \u001B[38;5;28;01mfor\u001B[39;00m (m, _) \u001B[38;5;129;01min\u001B[39;00m \u001B[43mmodels_si\u001B[49m], [\u001B[38;5;28mlen\u001B[39m(m\u001B[38;5;241m.\u001B[39mnodes()) \u001B[38;5;28;01mfor\u001B[39;00m (m, _) \u001B[38;5;129;01min\u001B[39;00m models_sis], [\u001B[38;5;28mlen\u001B[39m(m\u001B[38;5;241m.\u001B[39mnodes()) \u001B[38;5;28;01mfor\u001B[39;00m (m, _) \u001B[38;5;129;01min\u001B[39;00m models_sir]], [\u001B[38;5;124m\"\u001B[39m\u001B[38;5;124mSI\u001B[39m\u001B[38;5;124m\"\u001B[39m, \u001B[38;5;124m\"\u001B[39m\u001B[38;5;124mSIS\u001B[39m\u001B[38;5;124m\"\u001B[39m, \u001B[38;5;124m\"\u001B[39m\u001B[38;5;124mSIR\u001B[39m\u001B[38;5;124m\"\u001B[39m], \u001B[38;5;124m\"\u001B[39m\u001B[38;5;124mSize\u001B[39m\u001B[38;5;124m\"\u001B[39m, \u001B[38;5;124m\"\u001B[39m\u001B[38;5;124mCount\u001B[39m\u001B[38;5;124m\"\u001B[39m, \u001B[38;5;124m\"\u001B[39m\u001B[38;5;124mModels with aboard if 10 times no change\u001B[39m\u001B[38;5;124m\"\u001B[39m)\n",
      "\u001B[1;31mNameError\u001B[0m: name 'models_si' is not defined"
     ]
    }
   ],
   "source": [
    "multiple_histograms([[len(m.nodes()) for (m, _) in models_si], [len(m.nodes()) for (m, _) in models_sis], [len(m.nodes()) for (m, _) in models_sir]], [\"SI\", \"SIS\", \"SIR\"], \"Size\", \"Count\", \"Models with aboard if 10 times no change\")"
   ],
   "metadata": {
    "collapsed": false,
    "pycharm": {
     "name": "#%%\n"
    }
   }
  },
  {
   "cell_type": "code",
   "execution_count": null,
   "outputs": [],
   "source": [
    "size = 87\n",
    "sized_models_si = [m for m in models_si if len(m[0].nodes()) == size]\n",
    "sized_models_sis = [m for m in models_sis if len(m[0].nodes()) == size]\n",
    "sized_models_sir = [m for m in models_sir if len(m[0].nodes()) == size]\n",
    "\n",
    "print(f\"SI: {len(sized_models_si)}, SIS: {len(sized_models_sis)}, SIR: {len(sized_models_sir)}\")"
   ],
   "metadata": {
    "collapsed": false,
    "pycharm": {
     "name": "#%%\n",
     "is_executing": true
    }
   }
  },
  {
   "cell_type": "code",
   "execution_count": null,
   "outputs": [],
   "source": [
    "import random\n",
    "\n",
    "def shuffle(l):\n",
    "    random.shuffle(l)\n",
    "    return l\n",
    "\n",
    "min_size = min(len(sized_models_si), len(sized_models_sis), len(sized_models_sir))\n",
    "print(\"Min Size\", min_size)\n",
    "\n",
    "rand_models_si = shuffle(models_si)[0:min_size]\n",
    "rand_models_sis = shuffle(models_sis)[0:min_size]\n",
    "rand_models_sir = shuffle(models_sir)[0:min_size]\n",
    "\n",
    "print(f\"SI: {len(rand_models_si)}, SIS: {len(rand_models_sis)}, SIR: {len(rand_models_sir)}\")"
   ],
   "metadata": {
    "collapsed": false,
    "pycharm": {
     "name": "#%%\n",
     "is_executing": true
    }
   }
  },
  {
   "cell_type": "code",
   "execution_count": null,
   "outputs": [],
   "source": [
    "from rumor_centrality import rumor_detection\n",
    "import networkx as nx\n",
    "\n",
    "def predict_center(infected_graph_adj):\n",
    "    return rumor_detection.get_center_prediction(rumor_detection.networkx_graph_to_adj_list(infected_graph_adj), use_fact=False)\n",
    "\n",
    "def get_hop_distance(g, center: int, predicted_center: int):\n",
    "    return nx.shortest_path_length(g, center, predicted_center)\n",
    "\n",
    "def predict(models):\n",
    "    results = []\n",
    "    for infection, center in models:\n",
    "        if len(infection.nodes) == 0:\n",
    "            results.append((None, len(infection.nodes)))\n",
    "            continue\n",
    "\n",
    "        predicted = predict_center(infection)\n",
    "        hop_distance = get_hop_distance(g, center[0], predicted[0])\n",
    "        results.append(hop_distance)\n",
    "    return results"
   ],
   "metadata": {
    "collapsed": false,
    "pycharm": {
     "name": "#%%\n",
     "is_executing": true
    }
   }
  },
  {
   "cell_type": "code",
   "execution_count": null,
   "outputs": [],
   "source": [
    "prediction_si = predict(rand_models_si)"
   ],
   "metadata": {
    "collapsed": false,
    "pycharm": {
     "name": "#%%\n",
     "is_executing": true
    }
   }
  },
  {
   "cell_type": "code",
   "execution_count": null,
   "outputs": [],
   "source": [
    "prediction_sis = predict(rand_models_sis)"
   ],
   "metadata": {
    "collapsed": false,
    "pycharm": {
     "name": "#%%\n",
     "is_executing": true
    }
   }
  },
  {
   "cell_type": "code",
   "execution_count": null,
   "outputs": [],
   "source": [
    "prediction_sir = predict(rand_models_sir)"
   ],
   "metadata": {
    "collapsed": false,
    "pycharm": {
     "name": "#%%\n",
     "is_executing": true
    }
   }
  },
  {
   "cell_type": "code",
   "execution_count": null,
   "outputs": [],
   "source": [
    "multiple_histograms([prediction_si, prediction_sis, prediction_sir], [\"SI\", \"SIS\", \"SIR\"], \"Size\", \"Count\", \"Models with aboard if 10 times no change\", mod=1)\n"
   ],
   "metadata": {
    "collapsed": false,
    "pycharm": {
     "name": "#%%\n",
     "is_executing": true
    }
   }
  }
 ],
 "metadata": {
  "kernelspec": {
   "display_name": "Python 3 (ipykernel)",
   "language": "python",
   "name": "python3"
  },
  "language_info": {
   "codemirror_mode": {
    "name": "ipython",
    "version": 3
   },
   "file_extension": ".py",
   "mimetype": "text/x-python",
   "name": "python",
   "nbconvert_exporter": "python",
   "pygments_lexer": "ipython3",
   "version": "3.8.5"
  }
 },
 "nbformat": 4,
 "nbformat_minor": 1
}