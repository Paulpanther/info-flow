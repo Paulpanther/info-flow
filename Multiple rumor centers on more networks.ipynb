{
 "cells": [
  {
   "cell_type": "code",
   "execution_count": 1,
   "metadata": {
    "collapsed": true
   },
   "outputs": [],
   "source": [
    "from typing import List\n",
    "\n",
    "import networkx as nx\n",
    "from networkx import diameter, is_connected\n",
    "from tqdm import tqdm\n",
    "\n",
    "from rumor_centrality.evaluation import hop_distances\n",
    "from rumor_centrality.graph_clustering import assign_all_nodes_cluster, visualise_cluster_graph, multiple_rumor_source_prediction\n",
    "from rumor_centrality.graph_generator import small_world\n",
    "from rumor_centrality.graph_simulations import si\n",
    "from rumor_centrality.experiment import multiple_sources_experiment"
   ]
  },
  {
   "cell_type": "code",
   "execution_count": 2,
   "outputs": [],
   "source": [
    "experiment_params = {\n",
    "    \"max_infected_nodes\": [100, 1000],\n",
    "    # \"node_count\": 3000,\n",
    "    \"infection_prob\": 0.3,\n",
    "    \"num_infection_centers\": [2, 3, 5, 7, 10],\n",
    "    \"exp_iterations\": 10,\n",
    "}"
   ],
   "metadata": {
    "collapsed": false,
    "pycharm": {
     "name": "#%%\n"
    }
   }
  },
  {
   "cell_type": "code",
   "execution_count": 3,
   "outputs": [],
   "source": [
    "from functools import partial\n",
    "from rumor_centrality.graph_generator import synthetic_internet, scale_free, us_power_grid, internet\n",
    "\n",
    "# Available Graphs\n",
    "# Making graphs bigger, so that infections make sense on it\n",
    "graph_types = {\n",
    "    # \"synthetic_internet_100\": lambda: synthetic_internet(1000),\n",
    "    \"synthetic_internet_10000\": partial(synthetic_internet,10000),\n",
    "    # \"scale_free_100\": lambda: nx.Graph(scale_free(1000)),\n",
    "    \"scale_free_10000\": partial(scale_free, 10000),\n",
    "    \"us_power_grid\": us_power_grid,\n",
    "    \"internet\": internet,\n",
    "}"
   ],
   "metadata": {
    "collapsed": false,
    "pycharm": {
     "name": "#%%\n"
    }
   }
  },
  {
   "cell_type": "code",
   "execution_count": 4,
   "outputs": [],
   "source": [
    "from itertools import product\n",
    "from multiprocessing import Pool, TimeoutError\n",
    "from rumor_centrality.experiment import multiple_sources_experiment\n",
    "\n",
    "def unpack_result(result):\n",
    "    try:\n",
    "        return_value = result.get(timeout=250)\n",
    "    except TimeoutError:\n",
    "        return_value = None\n",
    "\n",
    "    return return_value"
   ],
   "metadata": {
    "collapsed": false,
    "pycharm": {
     "name": "#%%\n"
    }
   }
  },
  {
   "cell_type": "code",
   "execution_count": null,
   "outputs": [
    {
     "name": "stderr",
     "output_type": "stream",
     "text": [
      "  0%|          | 0/40 [00:00<?, ?it/s]"
     ]
    }
   ],
   "source": [
    "result = []\n",
    "\n",
    "num_infection_centers = experiment_params[\"num_infection_centers\"]\n",
    "max_infected_nodes = experiment_params[\"max_infected_nodes\"]\n",
    "infection_prob = experiment_params[\"infection_prob\"]\n",
    "exp_iterations = experiment_params[\"exp_iterations\"]\n",
    "\n",
    "for num_infection_center, max_inf_nodes, graph_name in tqdm(list(product(num_infection_centers, max_infected_nodes, graph_types))):\n",
    "    graph = graph_types[graph_name]\n",
    "\n",
    "    with Pool(processes=10) as pool:\n",
    "        multiple_results = [pool.apply_async(multiple_sources_experiment, (\n",
    "            num_infection_center,\n",
    "            infection_prob,\n",
    "            max_inf_nodes,\n",
    "            graph,\n",
    "            graph_name,\n",
    "        )) for i in range(exp_iterations)]\n",
    "        result.extend([unpack_result(res) for res in multiple_results])"
   ],
   "metadata": {
    "collapsed": false,
    "pycharm": {
     "name": "#%%\n",
     "is_executing": true
    }
   }
  },
  {
   "cell_type": "code",
   "execution_count": null,
   "outputs": [],
   "source": [],
   "metadata": {
    "collapsed": false,
    "pycharm": {
     "name": "#%%\n"
    }
   }
  }
 ],
 "metadata": {
  "kernelspec": {
   "name": "infoflow",
   "language": "python",
   "display_name": "Python (infoflow)"
  },
  "language_info": {
   "codemirror_mode": {
    "name": "ipython",
    "version": 2
   },
   "file_extension": ".py",
   "mimetype": "text/x-python",
   "name": "python",
   "nbconvert_exporter": "python",
   "pygments_lexer": "ipython2",
   "version": "2.7.6"
  }
 },
 "nbformat": 4,
 "nbformat_minor": 0
}