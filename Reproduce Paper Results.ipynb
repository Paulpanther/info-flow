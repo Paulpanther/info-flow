{
 "cells": [
  {
   "cell_type": "markdown",
   "id": "2ad85491",
   "metadata": {},
   "source": [
    "# Tree Networks\n",
    "We generate random regular trees (infinite trees, where all nodes have a fixed degree `d`) and random geometric trees (nodes are assinged coords in a box with `d` dimensions and are connected, if they are within a radius `r` of each other). "
   ]
  },
  {
   "cell_type": "code",
   "execution_count": 1,
   "id": "71351ae6",
   "metadata": {},
   "outputs": [],
   "source": [
    "from rumor_centrality.graph_simulations import si\n",
    "\n",
    "steps = -1\n",
    "infection_prob = 0.4\n",
    "center_count = 1\n",
    "si_config = (steps, infection_prob, center_count)"
   ]
  },
  {
   "cell_type": "code",
   "execution_count": 2,
   "id": "1095a151",
   "metadata": {},
   "outputs": [],
   "source": [
    "import networkx as nx\n",
    "\n",
    "samples = 10"
   ]
  },
  {
   "cell_type": "markdown",
   "id": "8abd7955",
   "metadata": {},
   "source": [
    "## Regular Trees"
   ]
  },
  {
   "cell_type": "code",
   "execution_count": 3,
   "id": "17829bc3",
   "metadata": {},
   "outputs": [],
   "source": [
    "# Regular Trees\n",
    "import networkx as nx\n",
    "import random\n",
    "\n",
    "sizes = [50, 100, 150, 200, 250, 300]\n",
    "degrees = [2, 3, 4, 5]\n",
    "\n",
    "def generate_regular_tree(degree, max_node_count):\n",
    "    \"\"\"Generates a random tree with max_node_count nodes\n",
    "    where each node as at max degree children\n",
    "    Smae parameters generate the exact same tree (no randomness)\"\"\"\n",
    "    g = nx.Graph()\n",
    "    g.add_node(0)\n",
    "    nodes = [0]\n",
    "    node_count = 1\n",
    "    while node_count != max_node_count:\n",
    "        root = nodes.pop(0)\n",
    "        for _ in range(degree):\n",
    "            g.add_node(node_count)\n",
    "            nodes.append(node_count)\n",
    "            \n",
    "            g.add_edge(root, node_count)\n",
    "            node_count += 1\n",
    "            if node_count == max_node_count:\n",
    "                break\n",
    "    return g"
   ]
  },
  {
   "cell_type": "code",
   "execution_count": 4,
   "id": "74a6e1e7",
   "metadata": {},
   "outputs": [],
   "source": [
    "import rumor_centrality.rumor_detection as raw\n",
    "\n",
    "\n",
    "def run_regular_tree_eval(samples, degree, node_count):\n",
    "    g = generate_regular_tree(degree, 10000)\n",
    "    read_only = g.copy(as_view=True)\n",
    "    results = []\n",
    "    for _ in range(samples):\n",
    "        infected_g, c = si(g, *si_config, max_infected_nodes=node_count)\n",
    "        adj_list = raw.networkx_graph_to_adj_list(infected_g)\n",
    "\n",
    "        predicted_c = raw.get_center_prediction(adj_list)\n",
    "        \n",
    "        hop_distance = nx.shortest_path_length(read_only, c[0], predicted_c[0])\n",
    "        infected_nodes = len(infected_g.nodes)\n",
    "        \n",
    "        results.append(hop_distance)\n",
    "    return results"
   ]
  },
  {
   "cell_type": "code",
   "execution_count": 5,
   "id": "78e8300a",
   "metadata": {},
   "outputs": [
    {
     "name": "stderr",
     "output_type": "stream",
     "text": [
      " 88%|█████████████████████████████████████████████████████████████▎        | 21/24 [00:20<00:02,  1.32it/s]/home/tgarrels/Projects/info-flow/.venv/lib/python3.8/site-packages/ndlib/models/DiffusionModel.py:169: UserWarning: The fraction_infected value is too low given the number of nodes of the selected graph: a single node will be set as infected\n",
      "  warnings.warn(\n",
      "100%|██████████████████████████████████████████████████████████████████████| 24/24 [00:24<00:00,  1.01s/it]\n"
     ]
    }
   ],
   "source": [
    "from tqdm import tqdm\n",
    "results = []\n",
    "with tqdm(total=len(degrees) * len(sizes)) as pbar:\n",
    "    for degree in degrees:\n",
    "        for size in sizes:\n",
    "            r = run_regular_tree_eval(samples, degree, size)\n",
    "            results.append((degree, size, r))\n",
    "            \n",
    "            pbar.update(1)"
   ]
  },
  {
   "cell_type": "code",
   "execution_count": 7,
   "id": "3ea00160",
   "metadata": {},
   "outputs": [],
   "source": [
    "perfect_predictions = list(map(lambda x: (x[0], x[1], x[2].count(0)), results))"
   ]
  },
  {
   "cell_type": "code",
   "execution_count": 20,
   "id": "a627d01d",
   "metadata": {
    "scrolled": false
   },
   "outputs": [
    {
     "data": {
      "text/plain": [
       "Text(0.5, 1.0, 'Regular Trees - Perfect Predictions')"
      ]
     },
     "execution_count": 20,
     "metadata": {},
     "output_type": "execute_result"
    },
    {
     "data": {
      "image/png": "[encoded data removed]",
      "text/plain": [
       "<Figure size 432x288 with 1 Axes>"
      ]
     },
     "metadata": {
      "needs_background": "light"
     },
     "output_type": "display_data"
    }
   ],
   "source": [
    "import matplotlib.pyplot as plt\n",
    "\n",
    "for d in degrees:\n",
    "    plt.plot(sizes, [l[2] / samples for l in perfect_predictions if l[0] == d], label=d)\n",
    "    \n",
    "plt.plot(sizes, list(map(lambda x: x**-(1/2), sizes)), label=\"N^-1/2\")\n",
    "plt.legend()\n",
    "plt.title(\"Regular Trees - Perfect Predictions\")"
   ]
  },
  {
   "cell_type": "code",
   "execution_count": 35,
   "id": "e65dbd4d",
   "metadata": {},
   "outputs": [
    {
     "data": {
      "text/plain": [
       "Text(0.5, 0, 'Degree of Regular Tree')"
      ]
     },
     "execution_count": 35,
     "metadata": {},
     "output_type": "execute_result"
    },
    {
     "data": {
      "image/png": "[encoded data removed]",
      "text/plain": [
       "<Figure size 432x288 with 1 Axes>"
      ]
     },
     "metadata": {
      "needs_background": "light"
     },
     "output_type": "display_data"
    }
   ],
   "source": [
    "import matplotlib.pyplot as plt\n",
    "import numpy as np\n",
    "\n",
    "for i, s in enumerate(reversed(sizes)):\n",
    "    plt.bar(np.array(degrees) - 0.1 * i + 0.25, [sum(l[2])/len(l[2]) for l in results if l[1] == s], label=s, width=.1)\n",
    "    \n",
    "plt.legend()\n",
    "plt.title(\"Regular Trees - Hop Distance Averages\")\n",
    "plt.ylabel(\"Hop Distance\")\n",
    "plt.xlabel(\"Degree of Regular Tree\")"
   ]
  },
  {
   "cell_type": "markdown",
   "id": "0014e38f",
   "metadata": {},
   "source": [
    "These results are not good, far worse than the paper states. I therefor assume, that they do not simulate SI on the trees (also hinted by that they explicitly state the simulation in 4.2, but not in 4.1). However, an interesing insight: A higher degree of a node in tree graphs seems to improve prediction performance."
   ]
  },
  {
   "cell_type": "markdown",
   "id": "8a9474f2",
   "metadata": {},
   "source": [
    "## Geometric Graphs\n",
    "We do not know what geometric trees are, we therefor create geometric graphs and simulate on them"
   ]
  },
  {
   "cell_type": "code",
   "execution_count": 70,
   "id": "7f4a2fa3",
   "metadata": {},
   "outputs": [
    {
     "name": "stderr",
     "output_type": "stream",
     "text": [
      "100%|██████████████████████████████████████████████████████████████████████| 60/60 [00:12<00:00,  4.66it/s]\n"
     ]
    }
   ],
   "source": [
    "results = []\n",
    "\n",
    "with tqdm(total=len(sizes) * 10) as bar:\n",
    "    for size in sizes:\n",
    "        _results = []\n",
    "        for _ in range(10):\n",
    "            g = nx.random_geometric_graph(1000, 0.1)\n",
    "            read_only = g.copy(as_view=True)\n",
    "\n",
    "            infected_g, c = si(g, *si_config, max_infected_nodes=size)\n",
    "            adj_list = raw.networkx_graph_to_adj_list(infected_g)\n",
    "\n",
    "            predicted_c = raw.get_center_prediction(adj_list)\n",
    "\n",
    "            hop_distance = nx.shortest_path_length(read_only, c[0], predicted_c[0])\n",
    "            _results.append(hop_distance)\n",
    "            bar.update(1)\n",
    "        results.append((size, _results))"
   ]
  },
  {
   "cell_type": "code",
   "execution_count": 71,
   "id": "1b3ebbd4",
   "metadata": {
    "scrolled": true
   },
   "outputs": [
    {
     "name": "stderr",
     "output_type": "stream",
     "text": [
      "No artists with labels found to put in legend.  Note that artists whose label start with an underscore are ignored when legend() is called with no argument.\n"
     ]
    },
    {
     "data": {
      "text/plain": [
       "Text(0.5, 0, 'Infected Nodes')"
      ]
     },
     "execution_count": 71,
     "metadata": {},
     "output_type": "execute_result"
    },
    {
     "data": {
      "image/png": "[encoded data removed]",
      "text/plain": [
       "<Figure size 432x288 with 1 Axes>"
      ]
     },
     "metadata": {
      "needs_background": "light"
     },
     "output_type": "display_data"
    }
   ],
   "source": [
    "import matplotlib.pyplot as plt\n",
    "import numpy as np\n",
    "\n",
    "\n",
    "\n",
    "plt.bar(sizes, list(map(lambda x: sum(x[1]) / len(x[1]), results)))\n",
    "    \n",
    "plt.legend()\n",
    "plt.title(\"Geometric Graph - Hop Distance Averages\")\n",
    "plt.ylabel(\"Hop Distance Avg\")\n",
    "plt.xlabel(\"Infected Nodes\")"
   ]
  },
  {
   "cell_type": "markdown",
   "id": "cb7cafac",
   "metadata": {},
   "source": [
    "More infected nodes make it harder to predict the center."
   ]
  },
  {
   "cell_type": "markdown",
   "id": "b9c7b14b",
   "metadata": {},
   "source": [
    "## General Networks"
   ]
  },
  {
   "cell_type": "code",
   "execution_count": 72,
   "id": "35adb0b8",
   "metadata": {},
   "outputs": [
    {
     "name": "stderr",
     "output_type": "stream",
     "text": [
      "100%|████████████████████████████████████████████████████████████████████| 100/100 [02:45<00:00,  1.65s/it]\n"
     ]
    }
   ],
   "source": [
    "# General Networks\n",
    "from tqdm import tqdm\n",
    "\n",
    "from rumor_centrality.graph_generator import scale_free, small_world\n",
    "from rumor_centrality.graph_simulations import si\n",
    "import rumor_centrality.jordan_center_alternative as jo\n",
    "\n",
    "node_count = 5000\n",
    "sample_size = 100\n",
    "\n",
    "rumor_cent = []\n",
    "dist_cent = []\n",
    "\n",
    "for _ in tqdm(range(sample_size)):\n",
    "    g = scale_free(node_count)\n",
    "    inf_g, c = si(g, 100, .1, 1)\n",
    "    adj_list = raw.networkx_graph_to_adj_list(inf_g)\n",
    "    rc_prediction = raw.get_center_prediction(adj_list, use_fact=False)\n",
    "    dc_prediction = jo.centers_by_distance_centrality(inf_g)\n",
    "    rumor_cent.append(nx.shortest_path_length(g, c[0], rc_prediction[0]))\n",
    "    dist_cent.append(nx.shortest_path_length(g, c[0], dc_prediction[0]))"
   ]
  },
  {
   "cell_type": "code",
   "execution_count": 73,
   "id": "e45690b2",
   "metadata": {},
   "outputs": [
    {
     "data": {
      "text/plain": [
       "(array([17.,  0., 45.,  0.,  0., 31.,  0.,  5.,  0.,  2.]),\n",
       " array([0. , 0.4, 0.8, 1.2, 1.6, 2. , 2.4, 2.8, 3.2, 3.6, 4. ]),\n",
       " <BarContainer object of 10 artists>)"
      ]
     },
     "execution_count": 73,
     "metadata": {},
     "output_type": "execute_result"
    },
    {
     "data": {
      "image/png": "[encoded data removed]",
      "text/plain": [
       "<Figure size 432x288 with 1 Axes>"
      ]
     },
     "metadata": {
      "needs_background": "light"
     },
     "output_type": "display_data"
    }
   ],
   "source": [
    "import matplotlib.pyplot as plt\n",
    "\n",
    "plt.hist(rumor_cent)"
   ]
  },
  {
   "cell_type": "code",
   "execution_count": 74,
   "id": "64673c26",
   "metadata": {
    "scrolled": true
   },
   "outputs": [
    {
     "data": {
      "text/plain": [
       "(array([16.,  0., 47.,  0.,  0., 28.,  0.,  8.,  0.,  1.]),\n",
       " array([0. , 0.4, 0.8, 1.2, 1.6, 2. , 2.4, 2.8, 3.2, 3.6, 4. ]),\n",
       " <BarContainer object of 10 artists>)"
      ]
     },
     "execution_count": 74,
     "metadata": {},
     "output_type": "execute_result"
    },
    {
     "data": {
      "image/png": "[encoded data removed]",
      "text/plain": [
       "<Figure size 432x288 with 1 Axes>"
      ]
     },
     "metadata": {
      "needs_background": "light"
     },
     "output_type": "display_data"
    }
   ],
   "source": [
    "plt.hist(dist_cent)"
   ]
  },
  {
   "cell_type": "markdown",
   "id": "e6434a14",
   "metadata": {},
   "source": [
    "## Real World Networks"
   ]
  },
  {
   "cell_type": "code",
   "execution_count": null,
   "id": "4679cd86",
   "metadata": {
    "scrolled": true
   },
   "outputs": [
    {
     "name": "stderr",
     "output_type": "stream",
     "text": [
      "  1%|▋                                                                     | 1/100 [00:00<00:35,  2.80it/s]"
     ]
    },
    {
     "name": "stdout",
     "output_type": "stream",
     "text": [
      "nodes: 346\n",
      "nodes: 2529\n"
     ]
    }
   ],
   "source": [
    "from rumor_centrality.graph_generator import internet, us_power_grid\n",
    "import networkx as nx\n",
    "\n",
    "hops = []\n",
    "for _ in tqdm(range(100)):\n",
    "    g, c = si(internet(), 10, 0.1, 1)\n",
    "    print(f\"nodes: {len(g.nodes)}\")\n",
    "    adj_list = raw.networkx_graph_to_adj_list(g)\n",
    "    rc_prediction = raw.get_center_prediction(adj_list, use_fact=False)\n",
    "    hops.append(nx.shortest_path_length(g, c[0], rc_prediction[0]))"
   ]
  },
  {
   "cell_type": "code",
   "execution_count": null,
   "id": "759ce03a",
   "metadata": {},
   "outputs": [],
   "source": [
    "import matplotlib.pyplot as plt\n",
    "\n",
    "plt.hist(hops)"
   ]
  }
 ],
 "metadata": {
  "kernelspec": {
   "display_name": "info-flow",
   "language": "python",
   "name": "info-flow"
  },
  "language_info": {
   "codemirror_mode": {
    "name": "ipython",
    "version": 3
   },
   "file_extension": ".py",
   "mimetype": "text/x-python",
   "name": "python",
   "nbconvert_exporter": "python",
   "pygments_lexer": "ipython3",
   "version": "3.8.10"
  }
 },
 "nbformat": 4,
 "nbformat_minor": 5
}
