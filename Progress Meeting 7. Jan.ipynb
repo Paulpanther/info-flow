{
 "cells": [
  {
   "cell_type": "markdown",
   "id": "ea8ee5a5",
   "metadata": {},
   "source": [
    "# Progress Meeting 7. Jan"
   ]
  },
  {
   "cell_type": "markdown",
   "id": "73d853fd",
   "metadata": {},
   "source": [
    "## 0. Recap\n",
    "- infected_graph = infection_simulation(Graph)\n",
    "- BFS Trees from all nodes, calculate subtree nodecount and node count product\n",
    "![](progress_pictures/rumor_cent_formular.png)"
   ]
  },
  {
   "cell_type": "markdown",
   "id": "7e344eb8",
   "metadata": {},
   "source": [
    "## 1. Cleanup of functional code, decision between networkx and raw implementation\n",
    "\n",
    "![Networkx Runtime vs Raw Implementation Runtime](progress_pictures/networkx_vs_raw_runtimes.jpg)"
   ]
  },
  {
   "cell_type": "markdown",
   "id": "f081165d",
   "metadata": {},
   "source": [
    "## 2. Factorial Overflow Errors"
   ]
  },
  {
   "cell_type": "code",
   "execution_count": 6,
   "id": "ee79d6fa",
   "metadata": {},
   "outputs": [
    {
     "data": {
      "text/plain": [
       "7.257415615307999e+306"
      ]
     },
     "execution_count": 6,
     "metadata": {},
     "output_type": "execute_result"
    }
   ],
   "source": [
    "import math\n",
    "float(math.factorial(170))"
   ]
  },
  {
   "cell_type": "code",
   "execution_count": 7,
   "id": "2291fff9",
   "metadata": {},
   "outputs": [
    {
     "ename": "OverflowError",
     "evalue": "int too large to convert to float",
     "output_type": "error",
     "traceback": [
      "\u001b[0;31m---------------------------------------------------------------------------\u001b[0m",
      "\u001b[0;31mOverflowError\u001b[0m                             Traceback (most recent call last)",
      "\u001b[0;32m/tmp/ipykernel_5739/1663632987.py\u001b[0m in \u001b[0;36m<module>\u001b[0;34m\u001b[0m\n\u001b[0;32m----> 1\u001b[0;31m \u001b[0mfloat\u001b[0m\u001b[0;34m(\u001b[0m\u001b[0mmath\u001b[0m\u001b[0;34m.\u001b[0m\u001b[0mfactorial\u001b[0m\u001b[0;34m(\u001b[0m\u001b[0;36m171\u001b[0m\u001b[0;34m)\u001b[0m\u001b[0;34m)\u001b[0m\u001b[0;34m\u001b[0m\u001b[0;34m\u001b[0m\u001b[0m\n\u001b[0m",
      "\u001b[0;31mOverflowError\u001b[0m: int too large to convert to float"
     ]
    }
   ],
   "source": [
    "float(math.factorial(171))"
   ]
  },
  {
   "cell_type": "markdown",
   "id": "e9574a5d",
   "metadata": {},
   "source": [
    "## 3. There can be multiple BFS trees from a node!"
   ]
  },
  {
   "cell_type": "code",
   "execution_count": 23,
   "id": "5b4868ca",
   "metadata": {
    "scrolled": true
   },
   "outputs": [
    {
     "data": {
      "image/png": "[encoded data removed]",
      "text/plain": [
       "<Figure size 432x288 with 1 Axes>"
      ]
     },
     "metadata": {},
     "output_type": "display_data"
    }
   ],
   "source": [
    "import networkx as nx\n",
    "g = nx.Graph()\n",
    "g.add_node(\"A\")\n",
    "g.add_node(\"B\")\n",
    "g.add_node(\"F\")\n",
    "g.add_node(\"G\")\n",
    "g.add_node(\"H\")\n",
    "g.add_node(\"J\")\n",
    "\n",
    "g.add_edge(\"A\", \"B\")\n",
    "g.add_edge(\"A\", \"F\")\n",
    "g.add_edge(\"A\", \"G\")\n",
    "g.add_edge(\"A\", \"H\")\n",
    "\n",
    "g.add_edge(\"B\", \"H\")\n",
    "g.add_edge(\"B\", \"J\")\n",
    "\n",
    "g.add_edge(\"G\", \"H\")\n",
    "\n",
    "nx.draw(g, with_labels=True)"
   ]
  },
  {
   "cell_type": "markdown",
   "id": "5dc35ed2",
   "metadata": {},
   "source": [
    "## 4. Basic Hop Distance Calculation"
   ]
  },
  {
   "cell_type": "code",
   "execution_count": 26,
   "id": "c3324150",
   "metadata": {},
   "outputs": [],
   "source": [
    "import rumor_centrality.rumor_detection as raw\n",
    "import rumor_centrality.jordan_center_alternative as jo\n",
    "\n",
    "\n",
    "from rumor_centrality.graph_simulations import si\n",
    "\n",
    "from networkx import shortest_path_length\n",
    "\n",
    "\n",
    "time = 10\n",
    "infection_prob = 0.1\n",
    "infection_centers_count = 1"
   ]
  },
  {
   "cell_type": "code",
   "execution_count": 20,
   "id": "3bea4b41",
   "metadata": {
    "scrolled": true
   },
   "outputs": [
    {
     "name": "stdout",
     "output_type": "stream",
     "text": [
      "infected nodes: 2935\n",
      "Original Infection Center: [794]\n",
      "RC Infection Center: [207]\n",
      "Hop Distance: 2\n",
      "JO Infection Center: [1, 2, 4, 9, 10, 21, 51, 475, 551, 1112, 1119, 1481, 920]\n",
      "Hop Distance: 2\n",
      "BC Infection Center: [1]\n",
      "Hop Distance: 2\n",
      "DC Infection Center: [1]\n",
      "Hop Distance: 2\n"
     ]
    }
   ],
   "source": [
    "from rumor_centrality.graph_generator import internet\n",
    "\n",
    "\n",
    "infected_g, c = si(internet(), time, infection_prob, infection_centers_count)\n",
    "print(f\"infected nodes: {len(infected_g.nodes)}\")\n",
    "print(f\"Original Infection Center: {c}\")\n",
    "\n",
    "adj_list = raw.networkx_graph_to_adj_list(infected_g)\n",
    "\n",
    "rc_prediction = raw.get_center_prediction(adj_list, use_fact=False)\n",
    "hops = shortest_path_length(infected_g, c[0], rc_prediction[0])\n",
    "print(f\"RC Infection Center: {rc_prediction}\")\n",
    "print(f\"Hop Distance: {hops}\")\n",
    "\n",
    "jo_prediction = jo.centers_by_jordan_center(infected_g)\n",
    "hops = shortest_path_length(infected_g, c[0], rc_prediction[0])\n",
    "print(f\"JO Infection Center: {jo_prediction}\")\n",
    "print(f\"Hop Distance: {hops}\")\n",
    "\n",
    "bc_prediction = jo.centers_by_betweenness_centrality(infected_g)\n",
    "hops = shortest_path_length(infected_g, c[0], rc_prediction[0])\n",
    "print(f\"BC Infection Center: {bc_prediction}\")\n",
    "print(f\"Hop Distance: {hops}\")\n",
    "\n",
    "dc_prediction = jo.centers_by_distance_centrality(infected_g)\n",
    "hops = shortest_path_length(infected_g, c[0], rc_prediction[0])\n",
    "print(f\"DC Infection Center: {dc_prediction}\")\n",
    "print(f\"Hop Distance: {hops}\")"
   ]
  },
  {
   "cell_type": "code",
   "execution_count": 21,
   "id": "f35747ae",
   "metadata": {},
   "outputs": [
    {
     "name": "stdout",
     "output_type": "stream",
     "text": [
      "infected nodes: 1\n",
      "Original Infection Center: [402]\n",
      "RC Infection Center: [402]\n",
      "Hop Distance: 0\n",
      "JO Infection Center: [402]\n",
      "Hop Distance: 0\n",
      "BC Infection Center: [402]\n",
      "Hop Distance: 0\n",
      "DC Infection Center: [402]\n",
      "Hop Distance: 0\n"
     ]
    }
   ],
   "source": [
    "from rumor_centrality.graph_generator import us_power_grid\n",
    "\n",
    "\n",
    "infected_g, c = si(us_power_grid(), time, infection_prob, infection_centers_count)\n",
    "print(f\"infected nodes: {len(infected_g.nodes)}\")\n",
    "print(f\"Original Infection Center: {c}\")\n",
    "\n",
    "adj_list = raw.networkx_graph_to_adj_list(infected_g)\n",
    "\n",
    "rc_prediction = raw.get_center_prediction(adj_list, use_fact=False)\n",
    "hops = shortest_path_length(infected_g, c[0], rc_prediction[0])\n",
    "print(f\"RC Infection Center: {rc_prediction}\")\n",
    "print(f\"Hop Distance: {hops}\")\n",
    "\n",
    "jo_prediction = jo.centers_by_jordan_center(infected_g)\n",
    "hops = shortest_path_length(infected_g, c[0], rc_prediction[0])\n",
    "print(f\"JO Infection Center: {jo_prediction}\")\n",
    "print(f\"Hop Distance: {hops}\")\n",
    "\n",
    "bc_prediction = jo.centers_by_betweenness_centrality(infected_g)\n",
    "hops = shortest_path_length(infected_g, c[0], rc_prediction[0])\n",
    "print(f\"BC Infection Center: {bc_prediction}\")\n",
    "print(f\"Hop Distance: {hops}\")\n",
    "\n",
    "dc_prediction = jo.centers_by_distance_centrality(infected_g)\n",
    "hops = shortest_path_length(infected_g, c[0], rc_prediction[0])\n",
    "print(f\"DC Infection Center: {dc_prediction}\")\n",
    "print(f\"Hop Distance: {hops}\")"
   ]
  },
  {
   "cell_type": "markdown",
   "id": "938eaf88",
   "metadata": {},
   "source": [
    "### Hop Distances on a *scale free* graph with 1000 nodes (200 runs)"
   ]
  },
  {
   "cell_type": "markdown",
   "id": "67725fe5",
   "metadata": {},
   "source": [
    "![](progress_pictures/metric_hop_distance_comparision.png)"
   ]
  },
  {
   "cell_type": "markdown",
   "id": "a1d0ec17",
   "metadata": {},
   "source": [
    "## 5. Task - Reproduction\n",
    "Networks:\n",
    "- Tree Networks\n",
    "    - Regular Trees\n",
    "    - Geometric Trees (?)\n",
    "- General Networks\n",
    "    - Small World\n",
    "    - Scale Free\n",
    "- Real World Networks\n",
    "    - Internet\n",
    "    - US Power Grid\n",
    "\n",
    "Methods:\n",
    "\n",
    "- We assume that they simulate SI on trees as well.\n",
    "- They so 1000 runs per virus graph size, per network\n",
    "- Virus Graph Sizes for Trees: ? (read from plot)\n",
    "- They stop simulation as soon as x nodes are infected\n",
    "- Metric is correct_detections / all_detections in trees\n",
    "- For graphs: Also hop_distance"
   ]
  },
  {
   "cell_type": "markdown",
   "id": "c597027e",
   "metadata": {},
   "source": [
    "## 6. Plan\n",
    "\n",
    "- Continue Reproduction and Scalability Tests\n",
    "- Work with Multiple Infection Centers\n",
    "- Work with Other Infection Dynamics"
   ]
  }
 ],
 "metadata": {
  "kernelspec": {
   "display_name": "info-flow",
   "language": "python",
   "name": "info-flow"
  },
  "language_info": {
   "codemirror_mode": {
    "name": "ipython",
    "version": 3
   },
   "file_extension": ".py",
   "mimetype": "text/x-python",
   "name": "python",
   "nbconvert_exporter": "python",
   "pygments_lexer": "ipython3",
   "version": "3.8.10"
  }
 },
 "nbformat": 4,
 "nbformat_minor": 5
}
