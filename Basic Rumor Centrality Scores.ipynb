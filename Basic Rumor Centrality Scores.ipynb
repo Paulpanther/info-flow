{
 "cells": [
  {
   "cell_type": "code",
   "execution_count": 1,
   "id": "37dee133",
   "metadata": {
    "scrolled": true
   },
   "outputs": [],
   "source": [
    "from rumor_centrality.graph_generator import scale_free\n",
    "from rumor_centrality.graph_simulations import si\n",
    "import rumor_centrality.rumor_detection as raw"
   ]
  },
  {
   "cell_type": "code",
   "execution_count": 2,
   "id": "6fbaf6d9",
   "metadata": {},
   "outputs": [],
   "source": [
    "infected_g = scale_free(100)\n",
    "adj_list = raw.networkx_graph_to_adj_list(infected_g)"
   ]
  },
  {
   "cell_type": "markdown",
   "id": "a68953e1",
   "metadata": {},
   "source": [
    "# Calculactions with and without factorial do not result in the same center nodes"
   ]
  },
  {
   "cell_type": "markdown",
   "id": "f6fcbcd6",
   "metadata": {},
   "source": [
    "Edit: Fixed, as @Tim forgot to preserves @Paul's idea, which was to omit factorial, and using the inverse of the p/t."
   ]
  },
  {
   "cell_type": "code",
   "execution_count": 3,
   "id": "41d8028b",
   "metadata": {
    "scrolled": true
   },
   "outputs": [],
   "source": [
    "no_fact_lookup = raw.get_rumor_centrality_lookup(adj_list, use_fact=False)\n",
    "fact_lookup = raw.get_rumor_centrality_lookup(adj_list, use_fact=True)"
   ]
  },
  {
   "cell_type": "code",
   "execution_count": 4,
   "id": "fa170e2c",
   "metadata": {},
   "outputs": [
    {
     "data": {
      "text/plain": [
       "[2]"
      ]
     },
     "execution_count": 4,
     "metadata": {},
     "output_type": "execute_result"
    }
   ],
   "source": [
    "no_fact_max_value = max(no_fact_lookup.values())\n",
    "[node for node, score in no_fact_lookup.items() if score == no_fact_max_value]"
   ]
  },
  {
   "cell_type": "code",
   "execution_count": 5,
   "id": "caa9bd9b",
   "metadata": {
    "scrolled": true
   },
   "outputs": [
    {
     "data": {
      "text/plain": [
       "[2]"
      ]
     },
     "execution_count": 5,
     "metadata": {},
     "output_type": "execute_result"
    }
   ],
   "source": [
    "fact_max_value = max(fact_lookup.values())\n",
    "[node for node, score in fact_lookup.items() if score == fact_max_value]"
   ]
  },
  {
   "cell_type": "markdown",
   "id": "93e24204",
   "metadata": {},
   "source": [
    "# Test with the Intro Talk Example"
   ]
  },
  {
   "cell_type": "code",
   "execution_count": 6,
   "id": "2a9e56dd",
   "metadata": {},
   "outputs": [
    {
     "data": {
      "image/png": "[encoded data removed]",
      "text/plain": [
       "<Figure size 432x288 with 1 Axes>"
      ]
     },
     "metadata": {},
     "output_type": "display_data"
    }
   ],
   "source": [
    "import networkx as nx\n",
    "g = nx.Graph()\n",
    "g.add_node(\"A\")\n",
    "g.add_node(\"B\")\n",
    "g.add_node(\"F\")\n",
    "g.add_node(\"G\")\n",
    "g.add_node(\"H\")\n",
    "g.add_node(\"J\")\n",
    "\n",
    "g.add_edge(\"A\", \"B\")\n",
    "g.add_edge(\"A\", \"F\")\n",
    "g.add_edge(\"A\", \"G\")\n",
    "g.add_edge(\"A\", \"H\")\n",
    "\n",
    "g.add_edge(\"B\", \"H\")\n",
    "g.add_edge(\"B\", \"J\")\n",
    "\n",
    "g.add_edge(\"G\", \"H\")\n",
    "\n",
    "nx.draw(g, with_labels=True)"
   ]
  },
  {
   "cell_type": "code",
   "execution_count": 7,
   "id": "896bd01e",
   "metadata": {},
   "outputs": [],
   "source": [
    "# So all nodes are numbers again\n",
    "mapping = {\"A\": 1, \"B\": 2, \"F\": 3, \"G\": 4, \"H\": 5, \"J\": 6}\n",
    "reversed_mapping = dict([(number, letter) for letter, number in mapping.items()])\n",
    "\n",
    "g = nx.relabel_nodes(g, mapping)"
   ]
  },
  {
   "cell_type": "code",
   "execution_count": 8,
   "id": "a9fc4ec3",
   "metadata": {},
   "outputs": [],
   "source": [
    "adj_list = raw.networkx_graph_to_adj_list(g)"
   ]
  },
  {
   "cell_type": "code",
   "execution_count": 9,
   "id": "1e489b9f",
   "metadata": {},
   "outputs": [],
   "source": [
    "no_fact_lookup = raw.get_rumor_centrality_lookup(adj_list, use_fact=False)\n",
    "fact_lookup = raw.get_rumor_centrality_lookup(adj_list, use_fact=True)"
   ]
  },
  {
   "cell_type": "code",
   "execution_count": 10,
   "id": "17ee8a4e",
   "metadata": {},
   "outputs": [
    {
     "data": {
      "text/plain": [
       "{'A': 0.5,\n",
       " 'B': 0.3333333333333333,\n",
       " 'F': 0.1,\n",
       " 'G': 0.125,\n",
       " 'H': 0.25,\n",
       " 'J': 0.06666666666666667}"
      ]
     },
     "execution_count": 10,
     "metadata": {},
     "output_type": "execute_result"
    }
   ],
   "source": [
    "dict([(reversed_mapping[node], score) for node, score in no_fact_lookup.items()])"
   ]
  },
  {
   "cell_type": "code",
   "execution_count": 11,
   "id": "28aec690",
   "metadata": {
    "scrolled": true
   },
   "outputs": [
    {
     "data": {
      "text/plain": [
       "{'A': 60.0, 'B': 40.0, 'F': 12.0, 'G': 15.0, 'H': 30.0, 'J': 8.0}"
      ]
     },
     "execution_count": 11,
     "metadata": {},
     "output_type": "execute_result"
    }
   ],
   "source": [
    "dict([(reversed_mapping[node], score) for node, score in fact_lookup.items()])"
   ]
  },
  {
   "cell_type": "markdown",
   "id": "166150d5",
   "metadata": {},
   "source": [
    "Neither of those is correct, the lookup using factorial gets the correct score for A, but is vastly off with all others, for example with B, which should also have been 60.\n",
    "\n",
    "Either our code, or the intro talk example is wrong!\n",
    "\n",
    "Edit: Our talk example was wrong!"
   ]
  },
  {
   "cell_type": "markdown",
   "id": "a521e17b",
   "metadata": {},
   "source": [
    "# Simulation & Hop Distance"
   ]
  },
  {
   "cell_type": "code",
   "execution_count": 12,
   "id": "f3720d54",
   "metadata": {},
   "outputs": [],
   "source": [
    "g = scale_free(100)\n",
    "infected_g, centers = si(g, 100, 0.1, 1)"
   ]
  },
  {
   "cell_type": "code",
   "execution_count": 13,
   "id": "4e5e8464",
   "metadata": {
    "scrolled": true
   },
   "outputs": [
    {
     "data": {
      "text/plain": [
       "False"
      ]
     },
     "execution_count": 13,
     "metadata": {},
     "output_type": "execute_result"
    }
   ],
   "source": [
    "# Does not result in tree!\n",
    "nx.is_tree(infected_g)"
   ]
  },
  {
   "cell_type": "code",
   "execution_count": 14,
   "id": "20f671ea",
   "metadata": {
    "scrolled": true
   },
   "outputs": [
    {
     "data": {
      "text/plain": [
       "[69]"
      ]
     },
     "execution_count": 14,
     "metadata": {},
     "output_type": "execute_result"
    }
   ],
   "source": [
    "centers"
   ]
  },
  {
   "cell_type": "code",
   "execution_count": 15,
   "id": "9f640108",
   "metadata": {},
   "outputs": [
    {
     "data": {
      "text/plain": [
       "[(3, 0.16666666666666666),\n",
       " (2, 0.125),\n",
       " (1, 0.08333333333333333),\n",
       " (12, 0.0625),\n",
       " (6, 0.041666666666666664),\n",
       " (0, 0.027777777777777776),\n",
       " (18, 0.015151515151515152),\n",
       " (30, 0.015151515151515152),\n",
       " (34, 0.015151515151515152),\n",
       " (41, 0.013888888888888888),\n",
       " (69, 0.011363636363636364),\n",
       " (15, 0.006944444444444444)]"
      ]
     },
     "execution_count": 15,
     "metadata": {},
     "output_type": "execute_result"
    }
   ],
   "source": [
    "adj_list = raw.networkx_graph_to_adj_list(infected_g)\n",
    "lookup = raw.get_rumor_centrality_lookup(adj_list, use_fact=False)\n",
    "sorted(lookup.items(), key=lambda x: x[1], reverse=True)"
   ]
  },
  {
   "cell_type": "code",
   "execution_count": 16,
   "id": "9ccfcc0f",
   "metadata": {},
   "outputs": [
    {
     "data": {
      "text/plain": [
       "[3]"
      ]
     },
     "execution_count": 16,
     "metadata": {},
     "output_type": "execute_result"
    }
   ],
   "source": [
    "prediction = raw.get_center_prediction(adj_list, use_fact=False)\n",
    "prediction"
   ]
  },
  {
   "cell_type": "code",
   "execution_count": 17,
   "id": "6f2ed017",
   "metadata": {},
   "outputs": [
    {
     "data": {
      "text/plain": [
       "2"
      ]
     },
     "execution_count": 17,
     "metadata": {},
     "output_type": "execute_result"
    }
   ],
   "source": [
    "nodes_on_shortest_path = nx.shortest_path(g, centers[0], prediction[0])\n",
    "hop_distance = len(nodes_on_shortest_path) - 1\n",
    "hop_distance"
   ]
  },
  {
   "cell_type": "code",
   "execution_count": 18,
   "id": "90d7f767",
   "metadata": {},
   "outputs": [],
   "source": [
    "import rumor_centrality.jordan_center_alternative as jo\n",
    "from rumor_centrality.graph_visualization import plot_nx_graph\n",
    "\n",
    "def benchmark_by_hop_distance(x):\n",
    "    nodes = 1000\n",
    "    g = nx.Graph(scale_free(nodes))\n",
    "    infected_g, centers = si(g, 100, 0.1, 1)\n",
    "        \n",
    "    adj_list = raw.networkx_graph_to_adj_list(infected_g)\n",
    "    \n",
    "    rc_prediction = raw.get_center_prediction(adj_list, use_fact=False)\n",
    "    jo_prediction = jo.centers_by_jordan_center(infected_g)\n",
    "    bc_prediction = jo.centers_by_betweenness_centrality(infected_g)\n",
    "    dc_prediction = jo.centers_by_distance_centrality(infected_g)\n",
    "    \n",
    "    predictions = [rc_prediction, jo_prediction, bc_prediction, dc_prediction]\n",
    "    \n",
    "    hop_distances = []\n",
    "    for pred in predictions:\n",
    "        hop_distances.append(nx.shortest_path_length(g, centers[0], pred[0]))\n",
    "    return hop_distances"
   ]
  },
  {
   "cell_type": "code",
   "execution_count": 19,
   "id": "307f79be",
   "metadata": {
    "scrolled": true
   },
   "outputs": [
    {
     "name": "stderr",
     "output_type": "stream",
     "text": [
      "100%|███████████████████████████████████████| 200/200 [00:00<00:00, 4205.47it/s]\n"
     ]
    }
   ],
   "source": [
    "from tqdm import tqdm\n",
    "from multiprocessing import Pool\n",
    "with Pool(64) as p:\n",
    "    hop_distances = p.map(benchmark_by_hop_distance, tqdm(range(200)))"
   ]
  },
  {
   "cell_type": "code",
   "execution_count": 20,
   "id": "b13bc759",
   "metadata": {},
   "outputs": [],
   "source": [
    "import numpy as np\n",
    "\n",
    "x = list(set([h for distances in hop_distances for h in distances]))\n",
    "x = np.array(x)"
   ]
  },
  {
   "cell_type": "code",
   "execution_count": 21,
   "id": "4332ebb6",
   "metadata": {},
   "outputs": [
    {
     "data": {
      "image/png": "[encoded data removed]",
      "text/plain": [
       "<Figure size 432x288 with 1 Axes>"
      ]
     },
     "metadata": {
      "needs_background": "light"
     },
     "output_type": "display_data"
    }
   ],
   "source": [
    "import matplotlib.pyplot as plt\n",
    "\n",
    "labels = [\"Rumor Cent\", \"Jordan Cent\", \"Betweeness Cent\", \"Distance Cent\"]\n",
    "\n",
    "fig, ax = plt.subplots(1,1)\n",
    "\n",
    "for i in range(4):\n",
    "    _hd = [d[i] for d in hop_distances]\n",
    "    height = [_hd.count(d) for d in x]\n",
    "    ax.bar(x - 0.1 * i + 0.15, height, label=labels[i], width=.1)\n",
    "    ax.set_title(\"Hop Distance Distribution\")\n",
    "    ax.legend()"
   ]
  }
 ],
 "metadata": {
  "kernelspec": {
   "display_name": "info-flow",
   "language": "python",
   "name": "info-flow"
  },
  "language_info": {
   "codemirror_mode": {
    "name": "ipython",
    "version": 3
   },
   "file_extension": ".py",
   "mimetype": "text/x-python",
   "name": "python",
   "nbconvert_exporter": "python",
   "pygments_lexer": "ipython3",
   "version": "3.8.10"
  }
 },
 "nbformat": 4,
 "nbformat_minor": 5
}
