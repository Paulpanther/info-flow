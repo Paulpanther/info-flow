{
 "cells": [
  {
   "cell_type": "code",
   "execution_count": 1,
   "metadata": {
    "collapsed": true
   },
   "outputs": [],
   "source": [
    "import numpy as np"
   ]
  },
  {
   "cell_type": "markdown",
   "source": [
    "# Multiple rumour sources\n",
    "\n",
    "When we want to detect multiple rumour sources we need to adapt rumour centrality...\n",
    "\n",
    "a few steps that need to happen:\n",
    "- update simulation to use multiple rumour sources\n",
    "- understand `Chen et al. - 2016 - Detecting Multiple Information Sources in Networks.pdf` to adapt their solution\n",
    "- implemented their graph splitting\n",
    "- implemented their rest of algorithm\n",
    "- implemented their comparisons\n",
    "- adapted rumour centrality to split graphs\n",
    "- wrote evaluation"
   ],
   "metadata": {
    "collapsed": false,
    "pycharm": {
     "name": "#%% md\n"
    }
   }
  },
  {
   "cell_type": "code",
   "execution_count": 1,
   "outputs": [],
   "source": [],
   "metadata": {
    "collapsed": false,
    "pycharm": {
     "name": "#%%\n"
    }
   }
  },
  {
   "cell_type": "markdown",
   "source": [
    "### Chen et al. 2016 Algorithm overview\n",
    "\n",
    "1. Clustering (split graph into partitions)\n",
    "2. Localization (find sources per partition)\n",
    "\n",
    "**Clustering**\n",
    "- select two infected nodes with max distance (are most likely in different clusters)\n",
    "- iteratively select as many nodes as needed that have max distance to current selection\n",
    "- group all other nodes based on min distance to selected cluster nodes\n",
    "\n",
    "**Localization**\n"
   ],
   "metadata": {
    "collapsed": false,
    "pycharm": {
     "name": "#%% md\n"
    }
   }
  },
  {
   "cell_type": "code",
   "execution_count": null,
   "outputs": [],
   "source": [],
   "metadata": {
    "collapsed": false,
    "pycharm": {
     "name": "#%%\n"
    }
   }
  }
 ],
 "metadata": {
  "kernelspec": {
   "display_name": "Python 3",
   "language": "python",
   "name": "python3"
  },
  "language_info": {
   "codemirror_mode": {
    "name": "ipython",
    "version": 2
   },
   "file_extension": ".py",
   "mimetype": "text/x-python",
   "name": "python",
   "nbconvert_exporter": "python",
   "pygments_lexer": "ipython2",
   "version": "2.7.6"
  }
 },
 "nbformat": 4,
 "nbformat_minor": 0
}