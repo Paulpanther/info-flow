{
 "cells": [
  {
   "cell_type": "code",
   "execution_count": 1,
   "id": "faa0eaf4",
   "metadata": {},
   "outputs": [],
   "source": [
    "# When do the measures get off\n",
    "missing_nodes = [0.1, 0.3, 0.5, 0.7]  # Percent of missing nodes"
   ]
  },
  {
   "cell_type": "code",
   "execution_count": 2,
   "id": "cc6a3765",
   "metadata": {},
   "outputs": [],
   "source": [
    "import networkx as nx\n",
    "import rumor_centrality.rumor_detection as raw\n",
    "import rumor_centrality.jordan_center_alternative as jo\n",
    "from tqdm import tqdm\n",
    "import matplotlib.pyplot as plt\n",
    "import numpy as np\n",
    "from rumor_centrality.graph_generator import scale_free, small_world\n",
    "from time import time\n",
    "from multiprocessing import Pool\n",
    "from typing import List, Tuple\n",
    "from rumor_centrality.graph_simulations import si\n",
    "import random"
   ]
  },
  {
   "cell_type": "code",
   "execution_count": 3,
   "id": "9394934b",
   "metadata": {},
   "outputs": [],
   "source": [
    "samples = 5\n",
    "sizes = [100, 200, 300, 400, 500, 1000]"
   ]
  },
  {
   "cell_type": "code",
   "execution_count": 4,
   "id": "b1b451e2",
   "metadata": {},
   "outputs": [],
   "source": [
    "def get_gnp_01(n):\n",
    "        return nx.fast_gnp_random_graph(n, 0.1)\n",
    "def get_gnp_03(n):\n",
    "    return nx.fast_gnp_random_graph(n, 0.3)\n",
    "def get_gnp_06(n):\n",
    "    return nx.fast_gnp_random_graph(n, 0.6)"
   ]
  },
  {
   "cell_type": "code",
   "execution_count": 5,
   "id": "2999b639",
   "metadata": {},
   "outputs": [],
   "source": [
    "def get_rand_tree(n):\n",
    "    return nx.random_tree(n)"
   ]
  },
  {
   "cell_type": "code",
   "execution_count": 6,
   "id": "e5dcf449",
   "metadata": {},
   "outputs": [],
   "source": [
    "def get_complete_graph(n):\n",
    "    return nx.complete_graph(n)"
   ]
  },
  {
   "cell_type": "code",
   "execution_count": 7,
   "id": "40b786df",
   "metadata": {},
   "outputs": [],
   "source": [
    "def get_timing(g) -> Tuple[List[int], int, float]:\n",
    "    start = time()\n",
    "    centers = raw.get_center_prediction(raw.networkx_graph_to_adj_list(g), use_fact=False)\n",
    "    return centers, len(g.edges), time() - start"
   ]
  },
  {
   "cell_type": "code",
   "execution_count": 8,
   "id": "a3d9d1f3",
   "metadata": {},
   "outputs": [],
   "source": [
    "def gather_results(graph_generating_callback, missing: float):\n",
    "    percent_of_infection = 0.2\n",
    "    \n",
    "    results = []\n",
    "    with Pool(samples) as p:\n",
    "        for n in tqdm(sizes):\n",
    "            g = graph_generating_callback(n)\n",
    "            g_read_only = g.copy(as_view=True)\n",
    "\n",
    "            infected_g, real_centers = si(g, -1, 0.1, 1, int(percent_of_infection * n))\n",
    "            \n",
    "            missing_nodes_count = int(len(infected_g.nodes) * missing)\n",
    "            new_graph = None\n",
    "            while new_graph is None or nx.is_connected(new_graph) is False:\n",
    "                new_graph = infected_g.copy()\n",
    "                nodes_to_remove = random.sample(new_graph.nodes, missing_nodes_count)\n",
    "                for node_to_remove in nodes_to_remove:\n",
    "                    new_graph.remove_node(node_to_remove)\n",
    "\n",
    "            data = p.map(get_timing, [new_graph for _ in range(samples)])\n",
    "            \n",
    "            hop_distances = []\n",
    "            timings = []\n",
    "            edge_counts = []\n",
    "            for d in data:\n",
    "                centers = d[0]\n",
    "                edges = d[1]\n",
    "                edge_counts.append(edges)\n",
    "                timing = d[2]\n",
    "                timings.append(timing)\n",
    "                for center in centers:\n",
    "                    for r_c in real_centers:\n",
    "                        hop_distance = nx.shortest_path_length(g_read_only, r_c, center)\n",
    "                        hop_distances.append(hop_distance)\n",
    "\n",
    "            r = {\n",
    "                \"n\": n,\n",
    "                \"m\": sum(edge_counts) / len(edge_counts),\n",
    "                \"avg time\": sum(timings) / len(timings),\n",
    "                \"degree\": sum(edge_counts) / len(edge_counts) / n,\n",
    "                \"hop_distances\": hop_distances,\n",
    "                \"missing\": missing,\n",
    "            }\n",
    "            results.append(r)\n",
    "    return results"
   ]
  },
  {
   "cell_type": "code",
   "execution_count": 9,
   "id": "4e424f0a",
   "metadata": {
    "scrolled": true
   },
   "outputs": [
    {
     "name": "stderr",
     "output_type": "stream",
     "text": [
      "100%|███████████████████████████████████████████████████████████████████████| 6/6 [00:44<00:00,  7.48s/it]\n",
      "100%|███████████████████████████████████████████████████████████████████████| 6/6 [00:23<00:00,  3.90s/it]\n",
      "100%|███████████████████████████████████████████████████████████████████████| 6/6 [00:09<00:00,  1.60s/it]\n",
      "100%|███████████████████████████████████████████████████████████████████████| 6/6 [00:03<00:00,  1.67it/s]\n"
     ]
    }
   ],
   "source": [
    "experiments = {\n",
    "    # \"GNP 0.1\": get_gnp_01,\n",
    "    # \"GNP 0.3\": get_gnp_03,\n",
    "    \"GNP 0.6\": get_gnp_06,\n",
    "    # \"Rand Tree\": get_rand_tree,\n",
    "    # \"Compl. Graph\": get_complete_graph,\n",
    "}\n",
    "\n",
    "results = {}\n",
    "for missing_percent in missing_nodes:\n",
    "    r = {}\n",
    "    for key, callback in experiments.items():\n",
    "        r[key] = gather_results(callback, missing_percent)\n",
    "    results[missing_percent] = r"
   ]
  },
  {
   "cell_type": "code",
   "execution_count": 11,
   "id": "7222dfef",
   "metadata": {},
   "outputs": [
    {
     "name": "stdout",
     "output_type": "stream",
     "text": [
      "Missing: 0.1\n",
      "GNP 0.6\n",
      "{'n': 100, 'm': 621.0, 'avg time': 0.0067158699035644535, 'degree': 6.21, 'hop_distances': [1, 1, 1, 1, 1], 'missing': 0.1}\n",
      "{'n': 200, 'm': 1988.0, 'avg time': 0.03604316711425781, 'degree': 9.94, 'hop_distances': [1, 1, 1, 1, 1], 'missing': 0.1}\n",
      "{'n': 300, 'm': 13339.0, 'avg time': 0.4562243461608887, 'degree': 44.46333333333333, 'hop_distances': [2, 2, 2, 2, 2], 'missing': 0.1}\n",
      "{'n': 400, 'm': 29741.0, 'avg time': 1.4837453842163086, 'degree': 74.3525, 'hop_distances': [2, 2, 2, 2, 2], 'missing': 0.1}\n",
      "{'n': 500, 'm': 45648.0, 'avg time': 2.9435638904571535, 'degree': 91.296, 'hop_distances': [2, 2, 2, 2, 2], 'missing': 0.1}\n",
      "{'n': 1000, 'm': 228480.0, 'avg time': 37.2739857673645, 'degree': 228.48, 'hop_distances': [2, 2, 2, 2, 2], 'missing': 0.1}\n",
      "\n",
      "Missing: 0.3\n",
      "GNP 0.6\n",
      "{'n': 100, 'm': 175.0, 'avg time': 0.001974344253540039, 'degree': 1.75, 'hop_distances': [2, 2, 2, 2, 2], 'missing': 0.3}\n",
      "{'n': 200, 'm': 2155.0, 'avg time': 0.035749292373657225, 'degree': 10.775, 'hop_distances': [1, 1, 1, 1, 1], 'missing': 0.3}\n",
      "{'n': 300, 'm': 5802.0, 'avg time': 0.1515873432159424, 'degree': 19.34, 'hop_distances': [1, 1, 1, 1, 1], 'missing': 0.3}\n",
      "{'n': 400, 'm': 14563.0, 'avg time': 0.5639250755310059, 'degree': 36.4075, 'hop_distances': [2, 2, 2, 2, 2], 'missing': 0.3}\n",
      "{'n': 500, 'm': 26073.0, 'avg time': 1.4243467330932618, 'degree': 52.146, 'hop_distances': [1, 1, 1, 1, 1], 'missing': 0.3}\n",
      "{'n': 1000, 'm': 144795.0, 'avg time': 18.11000213623047, 'degree': 144.795, 'hop_distances': [2, 2, 2, 2, 2], 'missing': 0.3}\n",
      "\n",
      "Missing: 0.5\n",
      "GNP 0.6\n",
      "{'n': 100, 'm': 99.0, 'avg time': 0.0012985706329345704, 'degree': 0.99, 'hop_distances': [1, 1, 1, 1, 1, 1, 1, 1, 1, 1], 'missing': 0.5}\n",
      "{'n': 200, 'm': 984.0, 'avg time': 0.01388998031616211, 'degree': 4.92, 'hop_distances': [1, 1, 1, 1, 1], 'missing': 0.5}\n",
      "{'n': 300, 'm': 2763.0, 'avg time': 0.04991154670715332, 'degree': 9.21, 'hop_distances': [1, 1, 1, 1, 1], 'missing': 0.5}\n",
      "{'n': 400, 'm': 6957.0, 'avg time': 0.20779657363891602, 'degree': 17.3925, 'hop_distances': [1, 1, 1, 1, 1], 'missing': 0.5}\n",
      "{'n': 500, 'm': 14303.0, 'avg time': 0.5597012042999268, 'degree': 28.606, 'hop_distances': [1, 1, 1, 1, 1], 'missing': 0.5}\n",
      "{'n': 1000, 'm': 70987.0, 'avg time': 6.609681129455566, 'degree': 70.987, 'hop_distances': [1, 1, 1, 1, 1], 'missing': 0.5}\n",
      "\n",
      "Missing: 0.7\n",
      "GNP 0.6\n",
      "{'n': 100, 'm': 50.0, 'avg time': 0.0005861282348632813, 'degree': 0.5, 'hop_distances': [1, 1, 1, 1, 1], 'missing': 0.7}\n",
      "{'n': 200, 'm': 400.0, 'avg time': 0.004304122924804687, 'degree': 2.0, 'hop_distances': [1, 1, 1, 1, 1], 'missing': 0.7}\n",
      "{'n': 300, 'm': 1407.0, 'avg time': 0.021245193481445313, 'degree': 4.69, 'hop_distances': [1, 1, 1, 1, 1], 'missing': 0.7}\n",
      "{'n': 400, 'm': 2475.0, 'avg time': 0.048874187469482425, 'degree': 6.1875, 'hop_distances': [2, 2, 2, 2, 2], 'missing': 0.7}\n",
      "{'n': 500, 'm': 5466.0, 'avg time': 0.14543914794921875, 'degree': 10.932, 'hop_distances': [1, 1, 1, 1, 1], 'missing': 0.7}\n",
      "{'n': 1000, 'm': 25032.0, 'avg time': 1.4781729698181152, 'degree': 25.032, 'hop_distances': [2, 2, 2, 2, 2], 'missing': 0.7}\n",
      "\n"
     ]
    }
   ],
   "source": [
    "for key, vals in results.items():\n",
    "    print(f\"Missing: {key}\")\n",
    "    for k, v in vals.items():\n",
    "        print(k)\n",
    "        for _v in v:\n",
    "            print(_v)\n",
    "    print()"
   ]
  },
  {
   "cell_type": "code",
   "execution_count": null,
   "id": "a6e08ce9",
   "metadata": {},
   "outputs": [],
   "source": []
  }
 ],
 "metadata": {
  "kernelspec": {
   "display_name": "info-flow",
   "language": "python",
   "name": "info-flow"
  },
  "language_info": {
   "codemirror_mode": {
    "name": "ipython",
    "version": 3
   },
   "file_extension": ".py",
   "mimetype": "text/x-python",
   "name": "python",
   "nbconvert_exporter": "python",
   "pygments_lexer": "ipython3",
   "version": "3.8.10"
  }
 },
 "nbformat": 4,
 "nbformat_minor": 5
}
